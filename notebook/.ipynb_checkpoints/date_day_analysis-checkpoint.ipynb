{
 "cells": [
  {
   "cell_type": "code",
   "execution_count": 1,
   "metadata": {
    "execution": {
     "iopub.execute_input": "2020-07-24T03:49:09.690210Z",
     "iopub.status.busy": "2020-07-24T03:49:09.689901Z",
     "iopub.status.idle": "2020-07-24T03:49:10.127664Z",
     "shell.execute_reply": "2020-07-24T03:49:10.126667Z",
     "shell.execute_reply.started": "2020-07-24T03:49:09.690159Z"
    }
   },
   "outputs": [],
   "source": [
    "import pandas as pd\n",
    "import numpy as np"
   ]
  },
  {
   "cell_type": "code",
   "execution_count": 12,
   "metadata": {
    "execution": {
     "iopub.execute_input": "2020-07-24T04:03:18.501467Z",
     "iopub.status.busy": "2020-07-24T04:03:18.501110Z",
     "iopub.status.idle": "2020-07-24T04:03:19.520844Z",
     "shell.execute_reply": "2020-07-24T04:03:19.520092Z",
     "shell.execute_reply.started": "2020-07-24T04:03:18.501411Z"
    }
   },
   "outputs": [
    {
     "data": {
      "text/html": [
       "<div>\n",
       "<style scoped>\n",
       "    .dataframe tbody tr th:only-of-type {\n",
       "        vertical-align: middle;\n",
       "    }\n",
       "\n",
       "    .dataframe tbody tr th {\n",
       "        vertical-align: top;\n",
       "    }\n",
       "\n",
       "    .dataframe thead th {\n",
       "        text-align: right;\n",
       "    }\n",
       "</style>\n",
       "<table border=\"1\" class=\"dataframe\">\n",
       "  <thead>\n",
       "    <tr style=\"text-align: right;\">\n",
       "      <th></th>\n",
       "      <th>Unnamed: 0</th>\n",
       "      <th>dr_no</th>\n",
       "      <th>date_rptd</th>\n",
       "      <th>date_occ</th>\n",
       "      <th>time_occ</th>\n",
       "      <th>area</th>\n",
       "      <th>area_name</th>\n",
       "      <th>rpt_dist_no</th>\n",
       "      <th>part_1_2</th>\n",
       "      <th>crm_cd</th>\n",
       "      <th>...</th>\n",
       "      <th>status_desc</th>\n",
       "      <th>crm_cd_1</th>\n",
       "      <th>crm_cd_2</th>\n",
       "      <th>crm_cd_3</th>\n",
       "      <th>crm_cd_4</th>\n",
       "      <th>location</th>\n",
       "      <th>cross_street</th>\n",
       "      <th>lat</th>\n",
       "      <th>lon</th>\n",
       "      <th>day_of_week</th>\n",
       "    </tr>\n",
       "  </thead>\n",
       "  <tbody>\n",
       "    <tr>\n",
       "      <th>0</th>\n",
       "      <td>0</td>\n",
       "      <td>180404092</td>\n",
       "      <td>2018-01-02T00:00:00.000</td>\n",
       "      <td>2018-01-01T00:00:00.000</td>\n",
       "      <td>2200</td>\n",
       "      <td>4</td>\n",
       "      <td>Hollenbeck</td>\n",
       "      <td>459</td>\n",
       "      <td>1</td>\n",
       "      <td>330</td>\n",
       "      <td>...</td>\n",
       "      <td>Invest Cont</td>\n",
       "      <td>330.0</td>\n",
       "      <td>NaN</td>\n",
       "      <td>NaN</td>\n",
       "      <td>NaN</td>\n",
       "      <td>3100    BLANCHARD                    ST</td>\n",
       "      <td>NaN</td>\n",
       "      <td>34.0477</td>\n",
       "      <td>-118.1963</td>\n",
       "      <td>Monday</td>\n",
       "    </tr>\n",
       "    <tr>\n",
       "      <th>1</th>\n",
       "      <td>1</td>\n",
       "      <td>182010595</td>\n",
       "      <td>2018-05-03T00:00:00.000</td>\n",
       "      <td>2018-01-01T00:00:00.000</td>\n",
       "      <td>800</td>\n",
       "      <td>20</td>\n",
       "      <td>Olympic</td>\n",
       "      <td>2034</td>\n",
       "      <td>1</td>\n",
       "      <td>341</td>\n",
       "      <td>...</td>\n",
       "      <td>Invest Cont</td>\n",
       "      <td>341.0</td>\n",
       "      <td>NaN</td>\n",
       "      <td>NaN</td>\n",
       "      <td>NaN</td>\n",
       "      <td>3500    WILSHIRE                     BL</td>\n",
       "      <td>NaN</td>\n",
       "      <td>34.0618</td>\n",
       "      <td>-118.3004</td>\n",
       "      <td>Monday</td>\n",
       "    </tr>\n",
       "    <tr>\n",
       "      <th>2</th>\n",
       "      <td>2</td>\n",
       "      <td>180204083</td>\n",
       "      <td>2018-01-01T00:00:00.000</td>\n",
       "      <td>2018-01-01T00:00:00.000</td>\n",
       "      <td>155</td>\n",
       "      <td>2</td>\n",
       "      <td>Rampart</td>\n",
       "      <td>239</td>\n",
       "      <td>2</td>\n",
       "      <td>624</td>\n",
       "      <td>...</td>\n",
       "      <td>Invest Cont</td>\n",
       "      <td>624.0</td>\n",
       "      <td>NaN</td>\n",
       "      <td>NaN</td>\n",
       "      <td>NaN</td>\n",
       "      <td>TEMPLE</td>\n",
       "      <td>BEAUDRY</td>\n",
       "      <td>34.0632</td>\n",
       "      <td>-118.2513</td>\n",
       "      <td>Monday</td>\n",
       "    </tr>\n",
       "  </tbody>\n",
       "</table>\n",
       "<p>3 rows × 30 columns</p>\n",
       "</div>"
      ],
      "text/plain": [
       "   Unnamed: 0      dr_no                date_rptd                 date_occ  \\\n",
       "0           0  180404092  2018-01-02T00:00:00.000  2018-01-01T00:00:00.000   \n",
       "1           1  182010595  2018-05-03T00:00:00.000  2018-01-01T00:00:00.000   \n",
       "2           2  180204083  2018-01-01T00:00:00.000  2018-01-01T00:00:00.000   \n",
       "\n",
       "   time_occ  area   area_name  rpt_dist_no  part_1_2  crm_cd  ...  \\\n",
       "0      2200     4  Hollenbeck          459         1     330  ...   \n",
       "1       800    20     Olympic         2034         1     341  ...   \n",
       "2       155     2     Rampart          239         2     624  ...   \n",
       "\n",
       "   status_desc crm_cd_1  crm_cd_2 crm_cd_3 crm_cd_4  \\\n",
       "0  Invest Cont    330.0       NaN      NaN      NaN   \n",
       "1  Invest Cont    341.0       NaN      NaN      NaN   \n",
       "2  Invest Cont    624.0       NaN      NaN      NaN   \n",
       "\n",
       "                                  location cross_street      lat       lon  \\\n",
       "0  3100    BLANCHARD                    ST          NaN  34.0477 -118.1963   \n",
       "1  3500    WILSHIRE                     BL          NaN  34.0618 -118.3004   \n",
       "2                                   TEMPLE      BEAUDRY  34.0632 -118.2513   \n",
       "\n",
       "  day_of_week  \n",
       "0      Monday  \n",
       "1      Monday  \n",
       "2      Monday  \n",
       "\n",
       "[3 rows x 30 columns]"
      ]
     },
     "execution_count": 12,
     "metadata": {},
     "output_type": "execute_result"
    }
   ],
   "source": [
    "df_2018 = pd.read_csv('2018_df_crime_day.csv')\n",
    "df_2018.head(3)"
   ]
  },
  {
   "cell_type": "code",
   "execution_count": null,
   "metadata": {},
   "outputs": [],
   "source": [
    "new_df_2018 = df_2018[]"
   ]
  },
  {
   "cell_type": "code",
   "execution_count": 26,
   "metadata": {
    "execution": {
     "iopub.execute_input": "2020-07-24T04:07:40.741134Z",
     "iopub.status.busy": "2020-07-24T04:07:40.740797Z",
     "iopub.status.idle": "2020-07-24T04:07:40.764913Z",
     "shell.execute_reply": "2020-07-24T04:07:40.763991Z",
     "shell.execute_reply.started": "2020-07-24T04:07:40.741083Z"
    }
   },
   "outputs": [
    {
     "data": {
      "text/plain": [
       "1808"
      ]
     },
     "execution_count": 26,
     "metadata": {},
     "output_type": "execute_result"
    }
   ],
   "source": [
    "df_2018.groupby(['time_occ','day_of_week']).size().max()"
   ]
  },
  {
   "cell_type": "code",
   "execution_count": 18,
   "metadata": {
    "execution": {
     "iopub.execute_input": "2020-07-24T04:05:24.746186Z",
     "iopub.status.busy": "2020-07-24T04:05:24.745931Z",
     "iopub.status.idle": "2020-07-24T04:05:24.784323Z",
     "shell.execute_reply": "2020-07-24T04:05:24.782859Z",
     "shell.execute_reply.started": "2020-07-24T04:05:24.746146Z"
    }
   },
   "outputs": [
    {
     "data": {
      "text/plain": [
       "time_occ            2359\n",
       "day_of_week    Wednesday\n",
       "0                   1808\n",
       "dtype: object"
      ]
     },
     "execution_count": 18,
     "metadata": {},
     "output_type": "execute_result"
    }
   ],
   "source": [
    "df_2018.groupby(['time_occ','day_of_week']).size().reset_index().max()"
   ]
  },
  {
   "cell_type": "code",
   "execution_count": 41,
   "metadata": {
    "execution": {
     "iopub.execute_input": "2020-07-24T04:11:18.882605Z",
     "iopub.status.busy": "2020-07-24T04:11:18.882312Z",
     "iopub.status.idle": "2020-07-24T04:11:18.908163Z",
     "shell.execute_reply": "2020-07-24T04:11:18.907267Z",
     "shell.execute_reply.started": "2020-07-24T04:11:18.882555Z"
    }
   },
   "outputs": [
    {
     "data": {
      "text/plain": [
       "7387"
      ]
     },
     "execution_count": 41,
     "metadata": {},
     "output_type": "execute_result"
    }
   ],
   "source": [
    "df_2018.groupby(['time_occ','day_of_week']).size().count()"
   ]
  },
  {
   "cell_type": "code",
   "execution_count": 43,
   "metadata": {
    "execution": {
     "iopub.execute_input": "2020-07-24T04:11:44.870668Z",
     "iopub.status.busy": "2020-07-24T04:11:44.870407Z",
     "iopub.status.idle": "2020-07-24T04:11:44.897100Z",
     "shell.execute_reply": "2020-07-24T04:11:44.895949Z",
     "shell.execute_reply.started": "2020-07-24T04:11:44.870627Z"
    }
   },
   "outputs": [
    {
     "data": {
      "text/plain": [
       "time_occ  day_of_week\n",
       "1         Friday         513\n",
       "          Monday         648\n",
       "          Saturday       556\n",
       "          Sunday         537\n",
       "          Thursday       545\n",
       "          Tuesday        517\n",
       "          Wednesday      500\n",
       "2         Friday           2\n",
       "          Monday           2\n",
       "          Sunday           2\n",
       "          Thursday         1\n",
       "          Tuesday          1\n",
       "          Wednesday        3\n",
       "3         Friday           1\n",
       "          Saturday         2\n",
       "          Sunday           2\n",
       "          Thursday         1\n",
       "          Tuesday          2\n",
       "4         Friday           2\n",
       "          Monday           1\n",
       "          Saturday         2\n",
       "          Sunday           2\n",
       "          Thursday         1\n",
       "          Wednesday        2\n",
       "5         Friday         145\n",
       "          Monday         190\n",
       "          Saturday       138\n",
       "          Sunday         165\n",
       "          Thursday       127\n",
       "          Tuesday        129\n",
       "          Wednesday      162\n",
       "6         Friday           2\n",
       "          Saturday         2\n",
       "          Sunday           1\n",
       "          Thursday         4\n",
       "          Tuesday          1\n",
       "          Wednesday        2\n",
       "7         Friday           2\n",
       "          Monday           1\n",
       "          Sunday           5\n",
       "          Thursday         1\n",
       "          Tuesday          2\n",
       "8         Friday           1\n",
       "          Monday           2\n",
       "          Saturday         2\n",
       "          Sunday           1\n",
       "          Thursday         1\n",
       "          Wednesday        4\n",
       "9         Monday           1\n",
       "          Sunday           2\n",
       "dtype: int64"
      ]
     },
     "execution_count": 43,
     "metadata": {},
     "output_type": "execute_result"
    }
   ],
   "source": [
    "df_2018.groupby(['time_occ','day_of_week']).size().head(50)"
   ]
  },
  {
   "cell_type": "code",
   "execution_count": 59,
   "metadata": {
    "execution": {
     "iopub.execute_input": "2020-07-24T04:14:43.310242Z",
     "iopub.status.busy": "2020-07-24T04:14:43.309966Z",
     "iopub.status.idle": "2020-07-24T04:14:43.356311Z",
     "shell.execute_reply": "2020-07-24T04:14:43.355562Z",
     "shell.execute_reply.started": "2020-07-24T04:14:43.310192Z"
    }
   },
   "outputs": [
    {
     "data": {
      "text/plain": [
       "day_of_week  time_occ\n",
       "Friday       1           513\n",
       "             2             2\n",
       "             3             1\n",
       "             4             2\n",
       "             5           145\n",
       "                        ... \n",
       "Wednesday    2355         41\n",
       "             2356          1\n",
       "             2357          2\n",
       "             2358          2\n",
       "             2359         23\n",
       "Length: 7387, dtype: int64"
      ]
     },
     "execution_count": 59,
     "metadata": {},
     "output_type": "execute_result"
    }
   ],
   "source": [
    "df_2018.groupby(['day_of_week','time_occ']).size()"
   ]
  },
  {
   "cell_type": "code",
   "execution_count": 61,
   "metadata": {
    "execution": {
     "iopub.execute_input": "2020-07-24T04:16:14.704679Z",
     "iopub.status.busy": "2020-07-24T04:16:14.704258Z",
     "iopub.status.idle": "2020-07-24T04:16:14.731453Z",
     "shell.execute_reply": "2020-07-24T04:16:14.728968Z",
     "shell.execute_reply.started": "2020-07-24T04:16:14.704610Z"
    }
   },
   "outputs": [
    {
     "data": {
      "text/plain": [
       "day_of_week\n",
       "Friday       34222\n",
       "Monday       33510\n",
       "Saturday     32705\n",
       "Sunday       31651\n",
       "Thursday     32361\n",
       "Tuesday      31617\n",
       "Wednesday    32297\n",
       "dtype: int64"
      ]
     },
     "execution_count": 61,
     "metadata": {},
     "output_type": "execute_result"
    }
   ],
   "source": [
    "df_2018.groupby(['day_of_week']).size()"
   ]
  },
  {
   "cell_type": "code",
   "execution_count": 62,
   "metadata": {
    "execution": {
     "iopub.execute_input": "2020-07-24T04:16:35.660219Z",
     "iopub.status.busy": "2020-07-24T04:16:35.659899Z",
     "iopub.status.idle": "2020-07-24T04:16:35.671619Z",
     "shell.execute_reply": "2020-07-24T04:16:35.670472Z",
     "shell.execute_reply.started": "2020-07-24T04:16:35.660165Z"
    }
   },
   "outputs": [
    {
     "data": {
      "text/plain": [
       "time_occ\n",
       "1       3816\n",
       "2         11\n",
       "3          8\n",
       "4         10\n",
       "5       1056\n",
       "        ... \n",
       "2355     317\n",
       "2356       9\n",
       "2357      10\n",
       "2358      12\n",
       "2359     166\n",
       "Length: 1434, dtype: int64"
      ]
     },
     "execution_count": 62,
     "metadata": {},
     "output_type": "execute_result"
    }
   ],
   "source": [
    "df_2018.groupby(['time_occ']).size()"
   ]
  },
  {
   "cell_type": "code",
   "execution_count": 70,
   "metadata": {
    "execution": {
     "iopub.execute_input": "2020-07-24T04:21:00.899013Z",
     "iopub.status.busy": "2020-07-24T04:21:00.898709Z",
     "iopub.status.idle": "2020-07-24T04:21:00.926122Z",
     "shell.execute_reply": "2020-07-24T04:21:00.925210Z",
     "shell.execute_reply.started": "2020-07-24T04:21:00.898959Z"
    }
   },
   "outputs": [],
   "source": [
    "new_df = df_2018.groupby(['time_occ','day_of_week']).size().reset_index(name='count').sort_values(by='count',ascending=False)"
   ]
  },
  {
   "cell_type": "code",
   "execution_count": 71,
   "metadata": {
    "execution": {
     "iopub.execute_input": "2020-07-24T04:22:03.358211Z",
     "iopub.status.busy": "2020-07-24T04:22:03.357926Z",
     "iopub.status.idle": "2020-07-24T04:22:03.370679Z",
     "shell.execute_reply": "2020-07-24T04:22:03.369963Z",
     "shell.execute_reply.started": "2020-07-24T04:22:03.358163Z"
    }
   },
   "outputs": [
    {
     "data": {
      "text/html": [
       "<div>\n",
       "<style scoped>\n",
       "    .dataframe tbody tr th:only-of-type {\n",
       "        vertical-align: middle;\n",
       "    }\n",
       "\n",
       "    .dataframe tbody tr th {\n",
       "        vertical-align: top;\n",
       "    }\n",
       "\n",
       "    .dataframe thead th {\n",
       "        text-align: right;\n",
       "    }\n",
       "</style>\n",
       "<table border=\"1\" class=\"dataframe\">\n",
       "  <thead>\n",
       "    <tr style=\"text-align: right;\">\n",
       "      <th></th>\n",
       "      <th>time_occ</th>\n",
       "      <th>day_of_week</th>\n",
       "      <th>count</th>\n",
       "    </tr>\n",
       "  </thead>\n",
       "  <tbody>\n",
       "    <tr>\n",
       "      <th>3382</th>\n",
       "      <td>1200</td>\n",
       "      <td>Monday</td>\n",
       "      <td>1808</td>\n",
       "    </tr>\n",
       "    <tr>\n",
       "      <th>3385</th>\n",
       "      <td>1200</td>\n",
       "      <td>Thursday</td>\n",
       "      <td>1645</td>\n",
       "    </tr>\n",
       "    <tr>\n",
       "      <th>3381</th>\n",
       "      <td>1200</td>\n",
       "      <td>Friday</td>\n",
       "      <td>1538</td>\n",
       "    </tr>\n",
       "    <tr>\n",
       "      <th>3387</th>\n",
       "      <td>1200</td>\n",
       "      <td>Wednesday</td>\n",
       "      <td>1523</td>\n",
       "    </tr>\n",
       "    <tr>\n",
       "      <th>3386</th>\n",
       "      <td>1200</td>\n",
       "      <td>Tuesday</td>\n",
       "      <td>1461</td>\n",
       "    </tr>\n",
       "    <tr>\n",
       "      <th>...</th>\n",
       "      <td>...</td>\n",
       "      <td>...</td>\n",
       "      <td>...</td>\n",
       "    </tr>\n",
       "    <tr>\n",
       "      <th>1142</th>\n",
       "      <td>358</td>\n",
       "      <td>Wednesday</td>\n",
       "      <td>1</td>\n",
       "    </tr>\n",
       "    <tr>\n",
       "      <th>1143</th>\n",
       "      <td>359</td>\n",
       "      <td>Friday</td>\n",
       "      <td>1</td>\n",
       "    </tr>\n",
       "    <tr>\n",
       "      <th>1151</th>\n",
       "      <td>401</td>\n",
       "      <td>Wednesday</td>\n",
       "      <td>1</td>\n",
       "    </tr>\n",
       "    <tr>\n",
       "      <th>5362</th>\n",
       "      <td>1738</td>\n",
       "      <td>Monday</td>\n",
       "      <td>1</td>\n",
       "    </tr>\n",
       "    <tr>\n",
       "      <th>2161</th>\n",
       "      <td>807</td>\n",
       "      <td>Wednesday</td>\n",
       "      <td>1</td>\n",
       "    </tr>\n",
       "  </tbody>\n",
       "</table>\n",
       "<p>7387 rows × 3 columns</p>\n",
       "</div>"
      ],
      "text/plain": [
       "      time_occ day_of_week  count\n",
       "3382      1200      Monday   1808\n",
       "3385      1200    Thursday   1645\n",
       "3381      1200      Friday   1538\n",
       "3387      1200   Wednesday   1523\n",
       "3386      1200     Tuesday   1461\n",
       "...        ...         ...    ...\n",
       "1142       358   Wednesday      1\n",
       "1143       359      Friday      1\n",
       "1151       401   Wednesday      1\n",
       "5362      1738      Monday      1\n",
       "2161       807   Wednesday      1\n",
       "\n",
       "[7387 rows x 3 columns]"
      ]
     },
     "execution_count": 71,
     "metadata": {},
     "output_type": "execute_result"
    }
   ],
   "source": [
    "new_df"
   ]
  },
  {
   "cell_type": "code",
   "execution_count": 75,
   "metadata": {
    "execution": {
     "iopub.execute_input": "2020-07-24T04:24:24.178114Z",
     "iopub.status.busy": "2020-07-24T04:24:24.177825Z",
     "iopub.status.idle": "2020-07-24T04:24:24.182872Z",
     "shell.execute_reply": "2020-07-24T04:24:24.181817Z",
     "shell.execute_reply.started": "2020-07-24T04:24:24.178069Z"
    }
   },
   "outputs": [
    {
     "data": {
      "text/plain": [
       "(228363, 30)"
      ]
     },
     "execution_count": 75,
     "metadata": {},
     "output_type": "execute_result"
    }
   ],
   "source": [
    "df_2018.shape"
   ]
  },
  {
   "cell_type": "code",
   "execution_count": 74,
   "metadata": {
    "execution": {
     "iopub.execute_input": "2020-07-24T04:22:54.841353Z",
     "iopub.status.busy": "2020-07-24T04:22:54.841048Z",
     "iopub.status.idle": "2020-07-24T04:22:54.881048Z",
     "shell.execute_reply": "2020-07-24T04:22:54.877390Z",
     "shell.execute_reply.started": "2020-07-24T04:22:54.841282Z"
    }
   },
   "outputs": [
    {
     "data": {
      "text/plain": [
       "time_occ  day_of_week\n",
       "1200      Monday         1808\n",
       "          Thursday       1645\n",
       "          Friday         1538\n",
       "          Wednesday      1523\n",
       "          Tuesday        1461\n",
       "                         ... \n",
       "753       Friday            1\n",
       "752       Saturday          1\n",
       "          Friday            1\n",
       "751       Wednesday         1\n",
       "1038      Saturday          1\n",
       "Length: 7387, dtype: int64"
      ]
     },
     "execution_count": 74,
     "metadata": {},
     "output_type": "execute_result"
    }
   ],
   "source": [
    "df_2018.groupby(['time_occ','day_of_week']).size().sort_values(ascending=False)"
   ]
  },
  {
   "cell_type": "code",
   "execution_count": 65,
   "metadata": {
    "execution": {
     "iopub.execute_input": "2020-07-24T04:18:51.774176Z",
     "iopub.status.busy": "2020-07-24T04:18:51.773922Z",
     "iopub.status.idle": "2020-07-24T04:18:51.807845Z",
     "shell.execute_reply": "2020-07-24T04:18:51.806786Z",
     "shell.execute_reply.started": "2020-07-24T04:18:51.774137Z"
    }
   },
   "outputs": [
    {
     "data": {
      "text/plain": [
       "day_of_week  time_occ\n",
       "Friday       1           513\n",
       "             2             2\n",
       "             3             1\n",
       "             4             2\n",
       "             5           145\n",
       "                        ... \n",
       "Wednesday    2355         41\n",
       "             2356          1\n",
       "             2357          2\n",
       "             2358          2\n",
       "             2359         23\n",
       "Length: 7387, dtype: int64"
      ]
     },
     "execution_count": 65,
     "metadata": {},
     "output_type": "execute_result"
    }
   ],
   "source": [
    "df_2018.groupby(['day_of_week','time_occ']).size()"
   ]
  },
  {
   "cell_type": "code",
   "execution_count": 68,
   "metadata": {
    "execution": {
     "iopub.execute_input": "2020-07-24T04:19:15.001837Z",
     "iopub.status.busy": "2020-07-24T04:19:15.001509Z",
     "iopub.status.idle": "2020-07-24T04:19:15.028953Z",
     "shell.execute_reply": "2020-07-24T04:19:15.027962Z",
     "shell.execute_reply.started": "2020-07-24T04:19:15.001785Z"
    }
   },
   "outputs": [
    {
     "data": {
      "text/plain": [
       "1808"
      ]
     },
     "execution_count": 68,
     "metadata": {},
     "output_type": "execute_result"
    }
   ],
   "source": [
    "df_2018.groupby(['day_of_week','time_occ']).size().max()"
   ]
  },
  {
   "cell_type": "code",
   "execution_count": 88,
   "metadata": {
    "execution": {
     "iopub.execute_input": "2020-07-24T04:59:34.303646Z",
     "iopub.status.busy": "2020-07-24T04:59:34.303128Z",
     "iopub.status.idle": "2020-07-24T04:59:34.365394Z",
     "shell.execute_reply": "2020-07-24T04:59:34.363773Z",
     "shell.execute_reply.started": "2020-07-24T04:59:34.303564Z"
    }
   },
   "outputs": [
    {
     "data": {
      "text/plain": [
       "date_occ                 day_of_week\n",
       "2018-01-01T00:00:00.000  Monday         1059\n",
       "2018-08-01T00:00:00.000  Wednesday       891\n",
       "2018-06-01T00:00:00.000  Friday          885\n",
       "2018-10-01T00:00:00.000  Monday          857\n",
       "2018-05-01T00:00:00.000  Tuesday         851\n",
       "2018-02-01T00:00:00.000  Thursday        850\n",
       "2018-11-01T00:00:00.000  Thursday        835\n",
       "2018-04-01T00:00:00.000  Sunday          819\n",
       "2018-09-01T00:00:00.000  Saturday        797\n",
       "2018-03-01T00:00:00.000  Thursday        768\n",
       "2018-12-01T00:00:00.000  Saturday        765\n",
       "2018-07-01T00:00:00.000  Sunday          747\n",
       "2018-02-16T00:00:00.000  Friday          734\n",
       "2018-10-28T00:00:00.000  Sunday          732\n",
       "2018-05-18T00:00:00.000  Friday          723\n",
       "2018-10-31T00:00:00.000  Wednesday       712\n",
       "2018-07-27T00:00:00.000  Friday          703\n",
       "2018-06-08T00:00:00.000  Friday          701\n",
       "2018-12-21T00:00:00.000  Friday          699\n",
       "2018-10-19T00:00:00.000  Friday          698\n",
       "2018-06-15T00:00:00.000  Friday          697\n",
       "2018-05-04T00:00:00.000  Friday          696\n",
       "2018-07-19T00:00:00.000  Thursday        696\n",
       "2018-08-31T00:00:00.000  Friday          696\n",
       "2018-04-20T00:00:00.000  Friday          694\n",
       "2018-05-25T00:00:00.000  Friday          693\n",
       "2018-01-26T00:00:00.000  Friday          692\n",
       "2018-10-05T00:00:00.000  Friday          691\n",
       "2018-04-09T00:00:00.000  Monday          690\n",
       "2018-07-11T00:00:00.000  Wednesday       687\n",
       "dtype: int64"
      ]
     },
     "execution_count": 88,
     "metadata": {},
     "output_type": "execute_result"
    }
   ],
   "source": [
    "df_2018.groupby(['date_occ','day_of_week']).size().sort_values(ascending=False).head(30)"
   ]
  },
  {
   "cell_type": "code",
   "execution_count": 76,
   "metadata": {
    "execution": {
     "iopub.execute_input": "2020-07-24T04:25:01.086793Z",
     "iopub.status.busy": "2020-07-24T04:25:01.086491Z",
     "iopub.status.idle": "2020-07-24T04:25:01.123379Z",
     "shell.execute_reply": "2020-07-24T04:25:01.122635Z",
     "shell.execute_reply.started": "2020-07-24T04:25:01.086742Z"
    }
   },
   "outputs": [
    {
     "data": {
      "text/plain": [
       "date_occ                 day_of_week\n",
       "2018-01-01T00:00:00.000  Monday         1059\n",
       "2018-08-01T00:00:00.000  Wednesday       891\n",
       "2018-06-01T00:00:00.000  Friday          885\n",
       "2018-10-01T00:00:00.000  Monday          857\n",
       "2018-05-01T00:00:00.000  Tuesday         851\n",
       "                                        ... \n",
       "2018-01-04T00:00:00.000  Thursday        540\n",
       "2018-02-22T00:00:00.000  Thursday        536\n",
       "2018-11-12T00:00:00.000  Monday          533\n",
       "2018-02-25T00:00:00.000  Sunday          529\n",
       "2018-12-25T00:00:00.000  Tuesday         459\n",
       "Length: 365, dtype: int64"
      ]
     },
     "execution_count": 76,
     "metadata": {},
     "output_type": "execute_result"
    }
   ],
   "source": [
    "df_2018.groupby(['date_occ','day_of_week']).size().sort_values(ascending=False)"
   ]
  },
  {
   "cell_type": "code",
   "execution_count": 89,
   "metadata": {
    "execution": {
     "iopub.execute_input": "2020-07-24T05:10:52.271735Z",
     "iopub.status.busy": "2020-07-24T05:10:52.271347Z",
     "iopub.status.idle": "2020-07-24T05:10:52.308085Z",
     "shell.execute_reply": "2020-07-24T05:10:52.307403Z",
     "shell.execute_reply.started": "2020-07-24T05:10:52.271676Z"
    }
   },
   "outputs": [
    {
     "data": {
      "text/plain": [
       "time_occ  day_of_week\n",
       "1447      Wednesday      1\n",
       "747       Friday         1\n",
       "746       Wednesday      1\n",
       "          Thursday       1\n",
       "2209      Saturday       1\n",
       "          Sunday         1\n",
       "2208      Sunday         1\n",
       "          Monday         1\n",
       "757       Thursday       1\n",
       "751       Thursday       1\n",
       "757       Sunday         1\n",
       "          Saturday       1\n",
       "          Monday         1\n",
       "          Friday         1\n",
       "756       Wednesday      1\n",
       "          Thursday       1\n",
       "          Sunday         1\n",
       "          Friday         1\n",
       "2016      Friday         1\n",
       "2014      Thursday       1\n",
       "754       Wednesday      1\n",
       "          Tuesday        1\n",
       "          Sunday         1\n",
       "          Saturday       1\n",
       "          Monday         1\n",
       "753       Friday         1\n",
       "752       Saturday       1\n",
       "          Friday         1\n",
       "751       Wednesday      1\n",
       "1038      Saturday       1\n",
       "dtype: int64"
      ]
     },
     "execution_count": 89,
     "metadata": {},
     "output_type": "execute_result"
    }
   ],
   "source": [
    "df_2018.groupby(['time_occ','day_of_week']).size().sort_values(ascending=False).tail(30)"
   ]
  },
  {
   "cell_type": "code",
   "execution_count": 87,
   "metadata": {
    "execution": {
     "iopub.execute_input": "2020-07-24T04:34:23.495461Z",
     "iopub.status.busy": "2020-07-24T04:34:23.495201Z",
     "iopub.status.idle": "2020-07-24T04:34:23.530357Z",
     "shell.execute_reply": "2020-07-24T04:34:23.529266Z",
     "shell.execute_reply.started": "2020-07-24T04:34:23.495420Z"
    }
   },
   "outputs": [
    {
     "data": {
      "text/plain": [
       "time_occ  day_of_week\n",
       "1200      Monday         1808\n",
       "          Thursday       1645\n",
       "          Friday         1538\n",
       "          Wednesday      1523\n",
       "          Tuesday        1461\n",
       "          Saturday       1317\n",
       "          Sunday         1241\n",
       "1700      Friday         1046\n",
       "1800      Friday         1015\n",
       "          Monday          958\n",
       "2000      Friday          951\n",
       "1800      Wednesday       930\n",
       "          Saturday        927\n",
       "          Tuesday         923\n",
       "2000      Thursday        906\n",
       "1900      Friday          905\n",
       "2000      Saturday        901\n",
       "1900      Thursday        901\n",
       "1800      Thursday        898\n",
       "2000      Sunday          894\n",
       "2200      Sunday          886\n",
       "1800      Sunday          885\n",
       "2000      Wednesday       882\n",
       "1600      Friday          877\n",
       "2200      Friday          876\n",
       "2100      Friday          866\n",
       "2000      Monday          866\n",
       "1700      Thursday        853\n",
       "          Saturday        853\n",
       "2200      Saturday        849\n",
       "dtype: int64"
      ]
     },
     "execution_count": 87,
     "metadata": {},
     "output_type": "execute_result"
    }
   ],
   "source": [
    "df_2018.groupby(['time_occ','day_of_week']).size().sort_values(ascending=False).head(30)"
   ]
  },
  {
   "cell_type": "code",
   "execution_count": 85,
   "metadata": {
    "execution": {
     "iopub.execute_input": "2020-07-24T04:33:54.932373Z",
     "iopub.status.busy": "2020-07-24T04:33:54.932042Z",
     "iopub.status.idle": "2020-07-24T04:33:54.960548Z",
     "shell.execute_reply": "2020-07-24T04:33:54.959588Z",
     "shell.execute_reply.started": "2020-07-24T04:33:54.932318Z"
    }
   },
   "outputs": [
    {
     "data": {
      "text/plain": [
       "day_of_week  time_occ\n",
       "Monday       1200        1808\n",
       "Thursday     1200        1645\n",
       "Friday       1200        1538\n",
       "Wednesday    1200        1523\n",
       "Tuesday      1200        1461\n",
       "Saturday     1200        1317\n",
       "Sunday       1200        1241\n",
       "Friday       1700        1046\n",
       "             1800        1015\n",
       "Monday       1800         958\n",
       "Friday       2000         951\n",
       "Wednesday    1800         930\n",
       "Saturday     1800         927\n",
       "Tuesday      1800         923\n",
       "Thursday     2000         906\n",
       "Friday       1900         905\n",
       "Thursday     1900         901\n",
       "Saturday     2000         901\n",
       "Thursday     1800         898\n",
       "Sunday       2000         894\n",
       "             2200         886\n",
       "             1800         885\n",
       "Wednesday    2000         882\n",
       "Friday       1600         877\n",
       "             2200         876\n",
       "Monday       2000         866\n",
       "Friday       2100         866\n",
       "Saturday     1700         853\n",
       "Thursday     1700         853\n",
       "Saturday     2200         849\n",
       "dtype: int64"
      ]
     },
     "execution_count": 85,
     "metadata": {},
     "output_type": "execute_result"
    }
   ],
   "source": [
    "df_2018.groupby(['day_of_week','time_occ']).size().sort_values(ascending=False).head(30)"
   ]
  },
  {
   "cell_type": "code",
   "execution_count": 84,
   "metadata": {
    "execution": {
     "iopub.execute_input": "2020-07-24T04:30:15.700658Z",
     "iopub.status.busy": "2020-07-24T04:30:15.700394Z",
     "iopub.status.idle": "2020-07-24T04:30:15.740375Z",
     "shell.execute_reply": "2020-07-24T04:30:15.739112Z",
     "shell.execute_reply.started": "2020-07-24T04:30:15.700616Z"
    }
   },
   "outputs": [
    {
     "data": {
      "text/plain": [
       "day_of_week  date_occ               \n",
       "Monday       2018-01-01T00:00:00.000    1059\n",
       "Wednesday    2018-08-01T00:00:00.000     891\n",
       "Friday       2018-06-01T00:00:00.000     885\n",
       "Monday       2018-10-01T00:00:00.000     857\n",
       "Tuesday      2018-05-01T00:00:00.000     851\n",
       "Thursday     2018-02-01T00:00:00.000     850\n",
       "             2018-11-01T00:00:00.000     835\n",
       "Sunday       2018-04-01T00:00:00.000     819\n",
       "Saturday     2018-09-01T00:00:00.000     797\n",
       "Thursday     2018-03-01T00:00:00.000     768\n",
       "Saturday     2018-12-01T00:00:00.000     765\n",
       "Sunday       2018-07-01T00:00:00.000     747\n",
       "Friday       2018-02-16T00:00:00.000     734\n",
       "Sunday       2018-10-28T00:00:00.000     732\n",
       "Friday       2018-05-18T00:00:00.000     723\n",
       "Wednesday    2018-10-31T00:00:00.000     712\n",
       "Friday       2018-07-27T00:00:00.000     703\n",
       "             2018-06-08T00:00:00.000     701\n",
       "             2018-12-21T00:00:00.000     699\n",
       "             2018-10-19T00:00:00.000     698\n",
       "             2018-06-15T00:00:00.000     697\n",
       "Thursday     2018-07-19T00:00:00.000     696\n",
       "Friday       2018-05-04T00:00:00.000     696\n",
       "             2018-08-31T00:00:00.000     696\n",
       "             2018-04-20T00:00:00.000     694\n",
       "             2018-05-25T00:00:00.000     693\n",
       "             2018-01-26T00:00:00.000     692\n",
       "             2018-10-05T00:00:00.000     691\n",
       "Monday       2018-04-09T00:00:00.000     690\n",
       "Wednesday    2018-07-11T00:00:00.000     687\n",
       "dtype: int64"
      ]
     },
     "execution_count": 84,
     "metadata": {},
     "output_type": "execute_result"
    }
   ],
   "source": [
    "df_2018.groupby(['day_of_week','date_occ']).size().sort_values(ascending=False).head(30)"
   ]
  },
  {
   "cell_type": "code",
   "execution_count": 78,
   "metadata": {
    "execution": {
     "iopub.execute_input": "2020-07-24T04:25:44.143346Z",
     "iopub.status.busy": "2020-07-24T04:25:44.143064Z",
     "iopub.status.idle": "2020-07-24T04:25:44.162157Z",
     "shell.execute_reply": "2020-07-24T04:25:44.161283Z",
     "shell.execute_reply.started": "2020-07-24T04:25:44.143301Z"
    }
   },
   "outputs": [
    {
     "data": {
      "text/plain": [
       "day_of_week\n",
       "Friday       34222\n",
       "Monday       33510\n",
       "Saturday     32705\n",
       "Thursday     32361\n",
       "Wednesday    32297\n",
       "Sunday       31651\n",
       "Tuesday      31617\n",
       "dtype: int64"
      ]
     },
     "execution_count": 78,
     "metadata": {},
     "output_type": "execute_result"
    }
   ],
   "source": [
    "df_2018.groupby(['day_of_week']).size().sort_values(ascending=False)"
   ]
  },
  {
   "cell_type": "code",
   "execution_count": 79,
   "metadata": {
    "execution": {
     "iopub.execute_input": "2020-07-24T04:25:54.918829Z",
     "iopub.status.busy": "2020-07-24T04:25:54.918488Z",
     "iopub.status.idle": "2020-07-24T04:25:54.945038Z",
     "shell.execute_reply": "2020-07-24T04:25:54.943892Z",
     "shell.execute_reply.started": "2020-07-24T04:25:54.918773Z"
    }
   },
   "outputs": [
    {
     "data": {
      "text/plain": [
       "date_occ\n",
       "2018-01-01T00:00:00.000    1059\n",
       "2018-08-01T00:00:00.000     891\n",
       "2018-06-01T00:00:00.000     885\n",
       "2018-10-01T00:00:00.000     857\n",
       "2018-05-01T00:00:00.000     851\n",
       "                           ... \n",
       "2018-01-04T00:00:00.000     540\n",
       "2018-02-22T00:00:00.000     536\n",
       "2018-11-12T00:00:00.000     533\n",
       "2018-02-25T00:00:00.000     529\n",
       "2018-12-25T00:00:00.000     459\n",
       "Length: 365, dtype: int64"
      ]
     },
     "execution_count": 79,
     "metadata": {},
     "output_type": "execute_result"
    }
   ],
   "source": [
    "df_2018.groupby(['date_occ']).size().sort_values(ascending=False)"
   ]
  }
 ],
 "metadata": {
  "kernelspec": {
   "display_name": "Python 3.7.6 64-bit",
   "language": "python",
   "name": "python37664bit90268a9c49c04dbbb42644938ff45948"
  },
  "language_info": {
   "codemirror_mode": {
    "name": "ipython",
    "version": 3
   },
   "file_extension": ".py",
   "mimetype": "text/x-python",
   "name": "python",
   "nbconvert_exporter": "python",
   "pygments_lexer": "ipython3",
   "version": "3.7.6"
  }
 },
 "nbformat": 4,
 "nbformat_minor": 4
}
