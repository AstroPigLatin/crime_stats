{
 "cells": [
  {
   "cell_type": "markdown",
   "metadata": {},
   "source": [
    "# Lost Angels: Crime Analysis in Los Angeles 2018 and 2019"
   ]
  },
  {
   "cell_type": "code",
   "execution_count": 648,
   "metadata": {
    "execution": {
     "iopub.execute_input": "2020-07-22T17:28:36.994353Z",
     "iopub.status.busy": "2020-07-22T17:28:36.994060Z",
     "iopub.status.idle": "2020-07-22T17:28:37.010661Z",
     "shell.execute_reply": "2020-07-22T17:28:37.009092Z",
     "shell.execute_reply.started": "2020-07-22T17:28:36.994309Z"
    }
   },
   "outputs": [],
   "source": [
    "import pandas as pd\n",
    "import matplotlib.pyplot as plt\n",
    "import numpy as np\n",
    "import folium\n",
    "import seaborn as sns\n",
    "\n",
    "%matplotlib inline"
   ]
  },
  {
   "cell_type": "markdown",
   "metadata": {},
   "source": [
    "## Exploratory Data Analysis"
   ]
  },
  {
   "cell_type": "code",
   "execution_count": 279,
   "metadata": {
    "execution": {
     "iopub.execute_input": "2020-07-22T02:10:36.892117Z",
     "iopub.status.busy": "2020-07-22T02:10:36.891853Z",
     "iopub.status.idle": "2020-07-22T02:10:38.735983Z",
     "shell.execute_reply": "2020-07-22T02:10:38.735225Z",
     "shell.execute_reply.started": "2020-07-22T02:10:36.892073Z"
    }
   },
   "outputs": [],
   "source": [
    "# Read in .csv files for the datasets of crime in 2018 and 2019\n",
    "df_2018 = pd.read_csv('data/2018_crime_la.csv')\n",
    "df_2019 = pd.read_csv('data/2019_crime_la.csv')"
   ]
  },
  {
   "cell_type": "code",
   "execution_count": 125,
   "metadata": {
    "execution": {
     "iopub.execute_input": "2020-07-22T00:59:33.804617Z",
     "iopub.status.busy": "2020-07-22T00:59:33.804358Z",
     "iopub.status.idle": "2020-07-22T00:59:33.961630Z",
     "shell.execute_reply": "2020-07-22T00:59:33.960896Z",
     "shell.execute_reply.started": "2020-07-22T00:59:33.804574Z"
    }
   },
   "outputs": [
    {
     "name": "stdout",
     "output_type": "stream",
     "text": [
      "<class 'pandas.core.frame.DataFrame'>\n",
      "RangeIndex: 228363 entries, 0 to 228362\n",
      "Data columns (total 28 columns):\n",
      " #   Column          Non-Null Count   Dtype  \n",
      "---  ------          --------------   -----  \n",
      " 0   dr_no           228363 non-null  int64  \n",
      " 1   date_rptd       228363 non-null  object \n",
      " 2   date_occ        228363 non-null  object \n",
      " 3   time_occ        228363 non-null  int64  \n",
      " 4   area            228363 non-null  int64  \n",
      " 5   area_name       228363 non-null  object \n",
      " 6   rpt_dist_no     228363 non-null  int64  \n",
      " 7   part_1_2        228363 non-null  int64  \n",
      " 8   crm_cd          228363 non-null  int64  \n",
      " 9   crm_cd_desc     228363 non-null  object \n",
      " 10  mocodes         205285 non-null  object \n",
      " 11  vict_age        228363 non-null  int64  \n",
      " 12  vict_sex        207176 non-null  object \n",
      " 13  vict_descent    207169 non-null  object \n",
      " 14  premis_cd       228363 non-null  float64\n",
      " 15  premis_desc     228317 non-null  object \n",
      " 16  weapon_used_cd  228363 non-null  float64\n",
      " 17  weapon_desc     80395 non-null   object \n",
      " 18  status          228363 non-null  object \n",
      " 19  status_desc     228363 non-null  object \n",
      " 20  crm_cd_1        228363 non-null  float64\n",
      " 21  crm_cd_2        228363 non-null  float64\n",
      " 22  crm_cd_3        228363 non-null  float64\n",
      " 23  crm_cd_4        228363 non-null  float64\n",
      " 24  location        228363 non-null  object \n",
      " 25  cross_street    39517 non-null   object \n",
      " 26  lat             228363 non-null  float64\n",
      " 27  lon             228363 non-null  float64\n",
      "dtypes: float64(8), int64(7), object(13)\n",
      "memory usage: 48.8+ MB\n"
     ]
    }
   ],
   "source": [
    "# Explore the data types of the columns\n",
    "df_2018.info()"
   ]
  },
  {
   "cell_type": "code",
   "execution_count": 88,
   "metadata": {
    "execution": {
     "iopub.execute_input": "2020-07-22T00:43:58.656451Z",
     "iopub.status.busy": "2020-07-22T00:43:58.655871Z",
     "iopub.status.idle": "2020-07-22T00:43:58.689975Z",
     "shell.execute_reply": "2020-07-22T00:43:58.688927Z",
     "shell.execute_reply.started": "2020-07-22T00:43:58.656362Z"
    }
   },
   "outputs": [
    {
     "data": {
      "text/html": [
       "<div>\n",
       "<style scoped>\n",
       "    .dataframe tbody tr th:only-of-type {\n",
       "        vertical-align: middle;\n",
       "    }\n",
       "\n",
       "    .dataframe tbody tr th {\n",
       "        vertical-align: top;\n",
       "    }\n",
       "\n",
       "    .dataframe thead th {\n",
       "        text-align: right;\n",
       "    }\n",
       "</style>\n",
       "<table border=\"1\" class=\"dataframe\">\n",
       "  <thead>\n",
       "    <tr style=\"text-align: right;\">\n",
       "      <th></th>\n",
       "      <th>dr_no</th>\n",
       "      <th>date_rptd</th>\n",
       "      <th>date_occ</th>\n",
       "      <th>time_occ</th>\n",
       "      <th>area</th>\n",
       "      <th>area_name</th>\n",
       "      <th>rpt_dist_no</th>\n",
       "      <th>part_1_2</th>\n",
       "      <th>crm_cd</th>\n",
       "      <th>crm_cd_desc</th>\n",
       "      <th>...</th>\n",
       "      <th>status</th>\n",
       "      <th>status_desc</th>\n",
       "      <th>crm_cd_1</th>\n",
       "      <th>crm_cd_2</th>\n",
       "      <th>crm_cd_3</th>\n",
       "      <th>crm_cd_4</th>\n",
       "      <th>location</th>\n",
       "      <th>cross_street</th>\n",
       "      <th>lat</th>\n",
       "      <th>lon</th>\n",
       "    </tr>\n",
       "  </thead>\n",
       "  <tbody>\n",
       "    <tr>\n",
       "      <th>0</th>\n",
       "      <td>180404092</td>\n",
       "      <td>2018-01-02T00:00:00.000</td>\n",
       "      <td>2018-01-01T00:00:00.000</td>\n",
       "      <td>2200</td>\n",
       "      <td>4</td>\n",
       "      <td>Hollenbeck</td>\n",
       "      <td>459</td>\n",
       "      <td>1</td>\n",
       "      <td>330</td>\n",
       "      <td>BURGLARY FROM VEHICLE</td>\n",
       "      <td>...</td>\n",
       "      <td>IC</td>\n",
       "      <td>Invest Cont</td>\n",
       "      <td>330.0</td>\n",
       "      <td>-9.223372e+18</td>\n",
       "      <td>-9.223372e+18</td>\n",
       "      <td>-9.223372e+18</td>\n",
       "      <td>3100    BLANCHARD                    ST</td>\n",
       "      <td>None</td>\n",
       "      <td>34.0477</td>\n",
       "      <td>-118.1963</td>\n",
       "    </tr>\n",
       "    <tr>\n",
       "      <th>1</th>\n",
       "      <td>182010595</td>\n",
       "      <td>2018-05-03T00:00:00.000</td>\n",
       "      <td>2018-01-01T00:00:00.000</td>\n",
       "      <td>800</td>\n",
       "      <td>20</td>\n",
       "      <td>Olympic</td>\n",
       "      <td>2034</td>\n",
       "      <td>1</td>\n",
       "      <td>341</td>\n",
       "      <td>THEFT-GRAND ($950.01 &amp; OVER)EXCPT,GUNS,FOWL,LI...</td>\n",
       "      <td>...</td>\n",
       "      <td>IC</td>\n",
       "      <td>Invest Cont</td>\n",
       "      <td>341.0</td>\n",
       "      <td>-9.223372e+18</td>\n",
       "      <td>-9.223372e+18</td>\n",
       "      <td>-9.223372e+18</td>\n",
       "      <td>3500    WILSHIRE                     BL</td>\n",
       "      <td>None</td>\n",
       "      <td>34.0618</td>\n",
       "      <td>-118.3004</td>\n",
       "    </tr>\n",
       "    <tr>\n",
       "      <th>2</th>\n",
       "      <td>180204083</td>\n",
       "      <td>2018-01-01T00:00:00.000</td>\n",
       "      <td>2018-01-01T00:00:00.000</td>\n",
       "      <td>155</td>\n",
       "      <td>2</td>\n",
       "      <td>Rampart</td>\n",
       "      <td>239</td>\n",
       "      <td>2</td>\n",
       "      <td>624</td>\n",
       "      <td>BATTERY - SIMPLE ASSAULT</td>\n",
       "      <td>...</td>\n",
       "      <td>IC</td>\n",
       "      <td>Invest Cont</td>\n",
       "      <td>624.0</td>\n",
       "      <td>-9.223372e+18</td>\n",
       "      <td>-9.223372e+18</td>\n",
       "      <td>-9.223372e+18</td>\n",
       "      <td>TEMPLE</td>\n",
       "      <td>BEAUDRY</td>\n",
       "      <td>34.0632</td>\n",
       "      <td>-118.2513</td>\n",
       "    </tr>\n",
       "    <tr>\n",
       "      <th>3</th>\n",
       "      <td>181208989</td>\n",
       "      <td>2018-03-09T00:00:00.000</td>\n",
       "      <td>2018-01-01T00:00:00.000</td>\n",
       "      <td>700</td>\n",
       "      <td>12</td>\n",
       "      <td>77th Street</td>\n",
       "      <td>1248</td>\n",
       "      <td>2</td>\n",
       "      <td>812</td>\n",
       "      <td>CRM AGNST CHLD (13 OR UNDER) (14-15 &amp; SUSP 10 ...</td>\n",
       "      <td>...</td>\n",
       "      <td>JA</td>\n",
       "      <td>Juv Arrest</td>\n",
       "      <td>812.0</td>\n",
       "      <td>8.600000e+02</td>\n",
       "      <td>-9.223372e+18</td>\n",
       "      <td>-9.223372e+18</td>\n",
       "      <td>900 W  70TH                         ST</td>\n",
       "      <td>None</td>\n",
       "      <td>33.9764</td>\n",
       "      <td>-118.2892</td>\n",
       "    </tr>\n",
       "    <tr>\n",
       "      <th>4</th>\n",
       "      <td>181904067</td>\n",
       "      <td>2018-01-01T00:00:00.000</td>\n",
       "      <td>2018-01-01T00:00:00.000</td>\n",
       "      <td>830</td>\n",
       "      <td>19</td>\n",
       "      <td>Mission</td>\n",
       "      <td>1917</td>\n",
       "      <td>1</td>\n",
       "      <td>230</td>\n",
       "      <td>ASSAULT WITH DEADLY WEAPON, AGGRAVATED ASSAULT</td>\n",
       "      <td>...</td>\n",
       "      <td>IC</td>\n",
       "      <td>Invest Cont</td>\n",
       "      <td>230.0</td>\n",
       "      <td>-9.223372e+18</td>\n",
       "      <td>-9.223372e+18</td>\n",
       "      <td>-9.223372e+18</td>\n",
       "      <td>13000    DRONFIELD                    AV</td>\n",
       "      <td>None</td>\n",
       "      <td>34.3092</td>\n",
       "      <td>-118.4390</td>\n",
       "    </tr>\n",
       "  </tbody>\n",
       "</table>\n",
       "<p>5 rows × 28 columns</p>\n",
       "</div>"
      ],
      "text/plain": [
       "       dr_no                date_rptd                 date_occ  time_occ  \\\n",
       "0  180404092  2018-01-02T00:00:00.000  2018-01-01T00:00:00.000      2200   \n",
       "1  182010595  2018-05-03T00:00:00.000  2018-01-01T00:00:00.000       800   \n",
       "2  180204083  2018-01-01T00:00:00.000  2018-01-01T00:00:00.000       155   \n",
       "3  181208989  2018-03-09T00:00:00.000  2018-01-01T00:00:00.000       700   \n",
       "4  181904067  2018-01-01T00:00:00.000  2018-01-01T00:00:00.000       830   \n",
       "\n",
       "   area    area_name  rpt_dist_no  part_1_2  crm_cd  \\\n",
       "0     4   Hollenbeck          459         1     330   \n",
       "1    20      Olympic         2034         1     341   \n",
       "2     2      Rampart          239         2     624   \n",
       "3    12  77th Street         1248         2     812   \n",
       "4    19      Mission         1917         1     230   \n",
       "\n",
       "                                         crm_cd_desc  ... status  status_desc  \\\n",
       "0                              BURGLARY FROM VEHICLE  ...     IC  Invest Cont   \n",
       "1  THEFT-GRAND ($950.01 & OVER)EXCPT,GUNS,FOWL,LI...  ...     IC  Invest Cont   \n",
       "2                           BATTERY - SIMPLE ASSAULT  ...     IC  Invest Cont   \n",
       "3  CRM AGNST CHLD (13 OR UNDER) (14-15 & SUSP 10 ...  ...     JA   Juv Arrest   \n",
       "4     ASSAULT WITH DEADLY WEAPON, AGGRAVATED ASSAULT  ...     IC  Invest Cont   \n",
       "\n",
       "  crm_cd_1      crm_cd_2      crm_cd_3      crm_cd_4  \\\n",
       "0    330.0 -9.223372e+18 -9.223372e+18 -9.223372e+18   \n",
       "1    341.0 -9.223372e+18 -9.223372e+18 -9.223372e+18   \n",
       "2    624.0 -9.223372e+18 -9.223372e+18 -9.223372e+18   \n",
       "3    812.0  8.600000e+02 -9.223372e+18 -9.223372e+18   \n",
       "4    230.0 -9.223372e+18 -9.223372e+18 -9.223372e+18   \n",
       "\n",
       "                                   location cross_street      lat       lon  \n",
       "0   3100    BLANCHARD                    ST         None  34.0477 -118.1963  \n",
       "1   3500    WILSHIRE                     BL         None  34.0618 -118.3004  \n",
       "2                                    TEMPLE      BEAUDRY  34.0632 -118.2513  \n",
       "3    900 W  70TH                         ST         None  33.9764 -118.2892  \n",
       "4  13000    DRONFIELD                    AV         None  34.3092 -118.4390  \n",
       "\n",
       "[5 rows x 28 columns]"
      ]
     },
     "execution_count": 88,
     "metadata": {},
     "output_type": "execute_result"
    }
   ],
   "source": [
    "# Explore data in 2018\n",
    "df_2018.head(5)"
   ]
  },
  {
   "cell_type": "markdown",
   "metadata": {},
   "source": [
    "## Comparing Crime in 2018 and 2019"
   ]
  },
  {
   "cell_type": "markdown",
   "metadata": {
    "execution": {
     "iopub.execute_input": "2020-07-21T22:51:39.061749Z",
     "iopub.status.busy": "2020-07-21T22:51:39.061445Z",
     "iopub.status.idle": "2020-07-21T22:51:39.067341Z",
     "shell.execute_reply": "2020-07-21T22:51:39.066451Z",
     "shell.execute_reply.started": "2020-07-21T22:51:39.061669Z"
    }
   },
   "source": [
    "There were **228,363** reported crime incidents that occured within the **2018** calendar year. <br/>\n",
    "There were **216,412** reported crime incidents that occured within the **2019** calendar year. <br/>\n",
    "This was a decrease of **11,951** crime incidents, a decrease of **5.23%**.\n"
   ]
  },
  {
   "cell_type": "code",
   "execution_count": 44,
   "metadata": {
    "execution": {
     "iopub.execute_input": "2020-07-21T23:04:01.568491Z",
     "iopub.status.busy": "2020-07-21T23:04:01.568211Z",
     "iopub.status.idle": "2020-07-21T23:04:01.588487Z",
     "shell.execute_reply": "2020-07-21T23:04:01.587636Z",
     "shell.execute_reply.started": "2020-07-21T23:04:01.568447Z"
    }
   },
   "outputs": [
    {
     "name": "stdout",
     "output_type": "stream",
     "text": [
      "Total number of unique crimes in 2018: 134 \n"
     ]
    }
   ],
   "source": [
    "unique_crime_count_2018 = df_2018['crm_cd_desc'].nunique()\n",
    "print(\"Total number of unique crimes in 2018: {} \".format(unique_crime_count_2018))"
   ]
  },
  {
   "cell_type": "code",
   "execution_count": 46,
   "metadata": {
    "execution": {
     "iopub.execute_input": "2020-07-21T23:04:21.528017Z",
     "iopub.status.busy": "2020-07-21T23:04:21.527751Z",
     "iopub.status.idle": "2020-07-21T23:04:21.550621Z",
     "shell.execute_reply": "2020-07-21T23:04:21.549810Z",
     "shell.execute_reply.started": "2020-07-21T23:04:21.527973Z"
    }
   },
   "outputs": [
    {
     "name": "stdout",
     "output_type": "stream",
     "text": [
      "Total number of unique crimes in 2019: 136 \n"
     ]
    }
   ],
   "source": [
    "unique_crime_count_2019 = df_2019['crm_cd_desc'].nunique()\n",
    "print(\"Total number of unique crimes in 2019: {} \".format(unique_crime_count_2019))"
   ]
  },
  {
   "cell_type": "code",
   "execution_count": 48,
   "metadata": {
    "execution": {
     "iopub.execute_input": "2020-07-21T23:05:30.683853Z",
     "iopub.status.busy": "2020-07-21T23:05:30.683282Z",
     "iopub.status.idle": "2020-07-21T23:05:30.703385Z",
     "shell.execute_reply": "2020-07-21T23:05:30.702508Z",
     "shell.execute_reply.started": "2020-07-21T23:05:30.683676Z"
    }
   },
   "outputs": [
    {
     "name": "stdout",
     "output_type": "stream",
     "text": [
      "Total number of unique premises where crime occured in 2018: 301 \n"
     ]
    }
   ],
   "source": [
    "unique_premise_count_2018 = df_2018[\"premis_desc\"].nunique()\n",
    "print(\"Total number of unique premises where crime occured in 2018: {} \".format(unique_premise_count_2018))"
   ]
  },
  {
   "cell_type": "code",
   "execution_count": 49,
   "metadata": {
    "execution": {
     "iopub.execute_input": "2020-07-21T23:05:48.574805Z",
     "iopub.status.busy": "2020-07-21T23:05:48.574467Z",
     "iopub.status.idle": "2020-07-21T23:05:48.597402Z",
     "shell.execute_reply": "2020-07-21T23:05:48.596340Z",
     "shell.execute_reply.started": "2020-07-21T23:05:48.574734Z"
    }
   },
   "outputs": [
    {
     "name": "stdout",
     "output_type": "stream",
     "text": [
      "Total number of unique premises where crime occured in 2019: 291 \n"
     ]
    }
   ],
   "source": [
    "unique_premise_count_2019 = df_2019[\"premis_desc\"].nunique()\n",
    "print(\"Total number of unique premises where crime occured in 2019: {} \".format(unique_premise_count_2019))"
   ]
  },
  {
   "cell_type": "markdown",
   "metadata": {},
   "source": [
    "### Exploring Type of Crime"
   ]
  },
  {
   "cell_type": "markdown",
   "metadata": {},
   "source": [
    "Let's look at the top occuring crime types for the years 2018 and 2019."
   ]
  },
  {
   "cell_type": "code",
   "execution_count": 656,
   "metadata": {
    "execution": {
     "iopub.execute_input": "2020-07-22T17:39:14.907782Z",
     "iopub.status.busy": "2020-07-22T17:39:14.907503Z",
     "iopub.status.idle": "2020-07-22T17:39:14.939698Z",
     "shell.execute_reply": "2020-07-22T17:39:14.938862Z",
     "shell.execute_reply.started": "2020-07-22T17:39:14.907735Z"
    }
   },
   "outputs": [
    {
     "data": {
      "text/html": [
       "<div>\n",
       "<style scoped>\n",
       "    .dataframe tbody tr th:only-of-type {\n",
       "        vertical-align: middle;\n",
       "    }\n",
       "\n",
       "    .dataframe tbody tr th {\n",
       "        vertical-align: top;\n",
       "    }\n",
       "\n",
       "    .dataframe thead th {\n",
       "        text-align: right;\n",
       "    }\n",
       "</style>\n",
       "<table border=\"1\" class=\"dataframe\">\n",
       "  <thead>\n",
       "    <tr style=\"text-align: right;\">\n",
       "      <th></th>\n",
       "      <th>crm_cd_desc</th>\n",
       "      <th>count</th>\n",
       "    </tr>\n",
       "  </thead>\n",
       "  <tbody>\n",
       "    <tr>\n",
       "      <th>5</th>\n",
       "      <td>BATTERY - SIMPLE ASSAULT</td>\n",
       "      <td>19380</td>\n",
       "    </tr>\n",
       "    <tr>\n",
       "      <th>20</th>\n",
       "      <td>BURGLARY FROM VEHICLE</td>\n",
       "      <td>18104</td>\n",
       "    </tr>\n",
       "    <tr>\n",
       "      <th>129</th>\n",
       "      <td>VEHICLE - STOLEN</td>\n",
       "      <td>17043</td>\n",
       "    </tr>\n",
       "    <tr>\n",
       "      <th>114</th>\n",
       "      <td>THEFT PLAIN - PETTY ($950 &amp; UNDER)</td>\n",
       "      <td>15465</td>\n",
       "    </tr>\n",
       "    <tr>\n",
       "      <th>19</th>\n",
       "      <td>BURGLARY</td>\n",
       "      <td>14859</td>\n",
       "    </tr>\n",
       "    <tr>\n",
       "      <th>126</th>\n",
       "      <td>VANDALISM - FELONY ($400 &amp; OVER, ALL CHURCH VA...</td>\n",
       "      <td>12807</td>\n",
       "    </tr>\n",
       "    <tr>\n",
       "      <th>71</th>\n",
       "      <td>INTIMATE PARTNER - SIMPLE ASSAULT</td>\n",
       "      <td>12440</td>\n",
       "    </tr>\n",
       "    <tr>\n",
       "      <th>3</th>\n",
       "      <td>ASSAULT WITH DEADLY WEAPON, AGGRAVATED ASSAULT</td>\n",
       "      <td>10777</td>\n",
       "    </tr>\n",
       "    <tr>\n",
       "      <th>110</th>\n",
       "      <td>THEFT FROM MOTOR VEHICLE - PETTY ($950 &amp; UNDER)</td>\n",
       "      <td>10721</td>\n",
       "    </tr>\n",
       "    <tr>\n",
       "      <th>112</th>\n",
       "      <td>THEFT OF IDENTITY</td>\n",
       "      <td>10484</td>\n",
       "    </tr>\n",
       "  </tbody>\n",
       "</table>\n",
       "</div>"
      ],
      "text/plain": [
       "                                           crm_cd_desc  count\n",
       "5                             BATTERY - SIMPLE ASSAULT  19380\n",
       "20                               BURGLARY FROM VEHICLE  18104\n",
       "129                                   VEHICLE - STOLEN  17043\n",
       "114                 THEFT PLAIN - PETTY ($950 & UNDER)  15465\n",
       "19                                            BURGLARY  14859\n",
       "126  VANDALISM - FELONY ($400 & OVER, ALL CHURCH VA...  12807\n",
       "71                   INTIMATE PARTNER - SIMPLE ASSAULT  12440\n",
       "3       ASSAULT WITH DEADLY WEAPON, AGGRAVATED ASSAULT  10777\n",
       "110    THEFT FROM MOTOR VEHICLE - PETTY ($950 & UNDER)  10721\n",
       "112                                  THEFT OF IDENTITY  10484"
      ]
     },
     "execution_count": 656,
     "metadata": {},
     "output_type": "execute_result"
    }
   ],
   "source": [
    "crime_type_2018 = df_2018.groupby('crm_cd_desc').size().reset_index(name='count').sort_values(by='count',ascending=False)\n",
    "crime_type_2018.head(10)"
   ]
  },
  {
   "cell_type": "code",
   "execution_count": 657,
   "metadata": {
    "execution": {
     "iopub.execute_input": "2020-07-22T17:40:08.566284Z",
     "iopub.status.busy": "2020-07-22T17:40:08.566019Z",
     "iopub.status.idle": "2020-07-22T17:40:08.600991Z",
     "shell.execute_reply": "2020-07-22T17:40:08.600016Z",
     "shell.execute_reply.started": "2020-07-22T17:40:08.566240Z"
    }
   },
   "outputs": [
    {
     "data": {
      "text/html": [
       "<div>\n",
       "<style scoped>\n",
       "    .dataframe tbody tr th:only-of-type {\n",
       "        vertical-align: middle;\n",
       "    }\n",
       "\n",
       "    .dataframe tbody tr th {\n",
       "        vertical-align: top;\n",
       "    }\n",
       "\n",
       "    .dataframe thead th {\n",
       "        text-align: right;\n",
       "    }\n",
       "</style>\n",
       "<table border=\"1\" class=\"dataframe\">\n",
       "  <thead>\n",
       "    <tr style=\"text-align: right;\">\n",
       "      <th></th>\n",
       "      <th>crm_cd_desc</th>\n",
       "      <th>count</th>\n",
       "    </tr>\n",
       "  </thead>\n",
       "  <tbody>\n",
       "    <tr>\n",
       "      <th>5</th>\n",
       "      <td>BATTERY - SIMPLE ASSAULT</td>\n",
       "      <td>18946</td>\n",
       "    </tr>\n",
       "    <tr>\n",
       "      <th>21</th>\n",
       "      <td>BURGLARY FROM VEHICLE</td>\n",
       "      <td>16652</td>\n",
       "    </tr>\n",
       "    <tr>\n",
       "      <th>131</th>\n",
       "      <td>VEHICLE - STOLEN</td>\n",
       "      <td>15334</td>\n",
       "    </tr>\n",
       "    <tr>\n",
       "      <th>114</th>\n",
       "      <td>THEFT PLAIN - PETTY ($950 &amp; UNDER)</td>\n",
       "      <td>15312</td>\n",
       "    </tr>\n",
       "    <tr>\n",
       "      <th>127</th>\n",
       "      <td>VANDALISM - FELONY ($400 &amp; OVER, ALL CHURCH VA...</td>\n",
       "      <td>12830</td>\n",
       "    </tr>\n",
       "    <tr>\n",
       "      <th>20</th>\n",
       "      <td>BURGLARY</td>\n",
       "      <td>12580</td>\n",
       "    </tr>\n",
       "    <tr>\n",
       "      <th>71</th>\n",
       "      <td>INTIMATE PARTNER - SIMPLE ASSAULT</td>\n",
       "      <td>12085</td>\n",
       "    </tr>\n",
       "    <tr>\n",
       "      <th>3</th>\n",
       "      <td>ASSAULT WITH DEADLY WEAPON, AGGRAVATED ASSAULT</td>\n",
       "      <td>10802</td>\n",
       "    </tr>\n",
       "    <tr>\n",
       "      <th>110</th>\n",
       "      <td>THEFT FROM MOTOR VEHICLE - PETTY ($950 &amp; UNDER)</td>\n",
       "      <td>10189</td>\n",
       "    </tr>\n",
       "    <tr>\n",
       "      <th>112</th>\n",
       "      <td>THEFT OF IDENTITY</td>\n",
       "      <td>8678</td>\n",
       "    </tr>\n",
       "  </tbody>\n",
       "</table>\n",
       "</div>"
      ],
      "text/plain": [
       "                                           crm_cd_desc  count\n",
       "5                             BATTERY - SIMPLE ASSAULT  18946\n",
       "21                               BURGLARY FROM VEHICLE  16652\n",
       "131                                   VEHICLE - STOLEN  15334\n",
       "114                 THEFT PLAIN - PETTY ($950 & UNDER)  15312\n",
       "127  VANDALISM - FELONY ($400 & OVER, ALL CHURCH VA...  12830\n",
       "20                                            BURGLARY  12580\n",
       "71                   INTIMATE PARTNER - SIMPLE ASSAULT  12085\n",
       "3       ASSAULT WITH DEADLY WEAPON, AGGRAVATED ASSAULT  10802\n",
       "110    THEFT FROM MOTOR VEHICLE - PETTY ($950 & UNDER)  10189\n",
       "112                                  THEFT OF IDENTITY   8678"
      ]
     },
     "execution_count": 657,
     "metadata": {},
     "output_type": "execute_result"
    }
   ],
   "source": [
    "crime_type_2019 = df_2019.groupby('crm_cd_desc').size().reset_index(name='count').sort_values(by='count',ascending=False)\n",
    "crime_type_2019.head(10)"
   ]
  },
  {
   "cell_type": "markdown",
   "metadata": {},
   "source": [
    "From the data, the highest occuring crime type for  2018 and 2019 was **BATTERY - SIMPLE ASSAULT**.\n",
    "\n",
    "Also, the top 10 crime types for both 2018 and 2019 remained the same."
   ]
  },
  {
   "cell_type": "markdown",
   "metadata": {
    "execution": {
     "iopub.execute_input": "2020-07-22T18:25:27.596449Z",
     "iopub.status.busy": "2020-07-22T18:25:27.596061Z",
     "iopub.status.idle": "2020-07-22T18:25:27.603214Z",
     "shell.execute_reply": "2020-07-22T18:25:27.602197Z",
     "shell.execute_reply.started": "2020-07-22T18:25:27.596395Z"
    }
   },
   "source": [
    "### Exploring Time of Crime"
   ]
  },
  {
   "cell_type": "code",
   "execution_count": 736,
   "metadata": {
    "execution": {
     "iopub.execute_input": "2020-07-22T18:36:48.207491Z",
     "iopub.status.busy": "2020-07-22T18:36:48.207232Z",
     "iopub.status.idle": "2020-07-22T18:36:48.219386Z",
     "shell.execute_reply": "2020-07-22T18:36:48.218582Z",
     "shell.execute_reply.started": "2020-07-22T18:36:48.207448Z"
    }
   },
   "outputs": [
    {
     "data": {
      "text/plain": [
       "0    1200\n",
       "dtype: int64"
      ]
     },
     "execution_count": 736,
     "metadata": {},
     "output_type": "execute_result"
    }
   ],
   "source": [
    "df_2018['time_occ'].mode()"
   ]
  },
  {
   "cell_type": "code",
   "execution_count": 52,
   "metadata": {
    "execution": {
     "iopub.execute_input": "2020-07-21T23:07:39.608445Z",
     "iopub.status.busy": "2020-07-21T23:07:39.608187Z",
     "iopub.status.idle": "2020-07-21T23:07:39.623845Z",
     "shell.execute_reply": "2020-07-21T23:07:39.623147Z",
     "shell.execute_reply.started": "2020-07-21T23:07:39.608404Z"
    }
   },
   "outputs": [
    {
     "data": {
      "text/plain": [
       "count    228363.000000\n",
       "mean       1355.503646\n",
       "std         646.652552\n",
       "min           1.000000\n",
       "25%         920.000000\n",
       "50%        1430.000000\n",
       "75%        1900.000000\n",
       "max        2359.000000\n",
       "Name: time_occ, dtype: float64"
      ]
     },
     "execution_count": 52,
     "metadata": {},
     "output_type": "execute_result"
    }
   ],
   "source": [
    "df_2018['time_occ'].describe()"
   ]
  },
  {
   "cell_type": "markdown",
   "metadata": {},
   "source": [
    "In 2018, the average time of a crime is **1:55PM**. <br>\n",
    "The median time of a crime is **2:30PM**. <br>\n",
    "The mode time of a crime is **12:00PM**."
   ]
  },
  {
   "cell_type": "code",
   "execution_count": 735,
   "metadata": {
    "execution": {
     "iopub.execute_input": "2020-07-22T18:36:44.402933Z",
     "iopub.status.busy": "2020-07-22T18:36:44.402665Z",
     "iopub.status.idle": "2020-07-22T18:36:44.411250Z",
     "shell.execute_reply": "2020-07-22T18:36:44.410548Z",
     "shell.execute_reply.started": "2020-07-22T18:36:44.402891Z"
    }
   },
   "outputs": [
    {
     "data": {
      "text/plain": [
       "0    1200\n",
       "dtype: int64"
      ]
     },
     "execution_count": 735,
     "metadata": {},
     "output_type": "execute_result"
    }
   ],
   "source": [
    "df_2019['time_occ'].mode()"
   ]
  },
  {
   "cell_type": "code",
   "execution_count": 58,
   "metadata": {
    "execution": {
     "iopub.execute_input": "2020-07-21T23:13:25.575281Z",
     "iopub.status.busy": "2020-07-21T23:13:25.575014Z",
     "iopub.status.idle": "2020-07-21T23:13:25.590348Z",
     "shell.execute_reply": "2020-07-21T23:13:25.589686Z",
     "shell.execute_reply.started": "2020-07-21T23:13:25.575236Z"
    }
   },
   "outputs": [
    {
     "data": {
      "text/plain": [
       "count    216412.000000\n",
       "mean       1354.156692\n",
       "std         646.964864\n",
       "min           1.000000\n",
       "25%         925.000000\n",
       "50%        1430.000000\n",
       "75%        1900.000000\n",
       "max        2359.000000\n",
       "Name: time_occ, dtype: float64"
      ]
     },
     "execution_count": 58,
     "metadata": {},
     "output_type": "execute_result"
    }
   ],
   "source": [
    "df_2019['time_occ'].describe()."
   ]
  },
  {
   "cell_type": "markdown",
   "metadata": {
    "execution": {
     "iopub.execute_input": "2020-07-21T23:14:23.959377Z",
     "iopub.status.busy": "2020-07-21T23:14:23.959115Z",
     "iopub.status.idle": "2020-07-21T23:14:23.966137Z",
     "shell.execute_reply": "2020-07-21T23:14:23.965019Z",
     "shell.execute_reply.started": "2020-07-21T23:14:23.959336Z"
    }
   },
   "source": [
    "In 2019, the average time of a crime is **1:54PM**. <br>\n",
    "The median time of a crime is **2:30PM**. <br>\n",
    "The mode time of a crime is **12:00PM**."
   ]
  },
  {
   "cell_type": "code",
   "execution_count": 895,
   "metadata": {
    "execution": {
     "iopub.execute_input": "2020-07-23T00:12:03.532032Z",
     "iopub.status.busy": "2020-07-23T00:12:03.529273Z",
     "iopub.status.idle": "2020-07-23T00:12:04.315126Z",
     "shell.execute_reply": "2020-07-23T00:12:04.311246Z",
     "shell.execute_reply.started": "2020-07-23T00:12:03.531972Z"
    }
   },
   "outputs": [
    {
     "data": {
      "image/png": "[encoded data removed]",
      "text/plain": [
       "<Figure size 432x288 with 1 Axes>"
      ]
     },
     "metadata": {
      "needs_background": "light"
     },
     "output_type": "display_data"
    }
   ],
   "source": [
    "# Plot histogram of age range and number of victims of crime by year\n",
    "fig, ax = plt.subplots(1)\n",
    "ax.hist(time_2018['time_occ'], bins=24, color = 'g', label = \"2018\")\n",
    "ax.hist(time_2019['time_occ'], bins=24, color = 'y', label = \"2019\")\n",
    "# ax.set_xticklabels([0,1,2,3],['5:00 AM','10:00 AM','3:00 PM', '8:00 PM']) # Error\n",
    "ax.set_xlabel('Time of Crime (24H)')\n",
    "ax.set_ylabel('Number of Crimes')\n",
    "plt.title('Count of Crimes by Hour')\n",
    "ax.legend()\n",
    "fig.savefig('time_la_hist.png')\n",
    "plt.show()\n"
   ]
  },
  {
   "cell_type": "code",
   "execution_count": 721,
   "metadata": {
    "execution": {
     "iopub.execute_input": "2020-07-22T18:26:27.561950Z",
     "iopub.status.busy": "2020-07-22T18:26:27.561639Z",
     "iopub.status.idle": "2020-07-22T18:26:27.577493Z",
     "shell.execute_reply": "2020-07-22T18:26:27.576688Z",
     "shell.execute_reply.started": "2020-07-22T18:26:27.561906Z"
    }
   },
   "outputs": [
    {
     "data": {
      "text/html": [
       "<div>\n",
       "<style scoped>\n",
       "    .dataframe tbody tr th:only-of-type {\n",
       "        vertical-align: middle;\n",
       "    }\n",
       "\n",
       "    .dataframe tbody tr th {\n",
       "        vertical-align: top;\n",
       "    }\n",
       "\n",
       "    .dataframe thead th {\n",
       "        text-align: right;\n",
       "    }\n",
       "</style>\n",
       "<table border=\"1\" class=\"dataframe\">\n",
       "  <thead>\n",
       "    <tr style=\"text-align: right;\">\n",
       "      <th></th>\n",
       "      <th>time_occ</th>\n",
       "    </tr>\n",
       "  </thead>\n",
       "  <tbody>\n",
       "    <tr>\n",
       "      <th>0</th>\n",
       "      <td>1200</td>\n",
       "    </tr>\n",
       "    <tr>\n",
       "      <th>1</th>\n",
       "      <td>800</td>\n",
       "    </tr>\n",
       "    <tr>\n",
       "      <th>2</th>\n",
       "      <td>1200</td>\n",
       "    </tr>\n",
       "    <tr>\n",
       "      <th>3</th>\n",
       "      <td>1400</td>\n",
       "    </tr>\n",
       "    <tr>\n",
       "      <th>4</th>\n",
       "      <td>300</td>\n",
       "    </tr>\n",
       "    <tr>\n",
       "      <th>...</th>\n",
       "      <td>...</td>\n",
       "    </tr>\n",
       "    <tr>\n",
       "      <th>216407</th>\n",
       "      <td>2350</td>\n",
       "    </tr>\n",
       "    <tr>\n",
       "      <th>216408</th>\n",
       "      <td>1245</td>\n",
       "    </tr>\n",
       "    <tr>\n",
       "      <th>216409</th>\n",
       "      <td>5</td>\n",
       "    </tr>\n",
       "    <tr>\n",
       "      <th>216410</th>\n",
       "      <td>1300</td>\n",
       "    </tr>\n",
       "    <tr>\n",
       "      <th>216411</th>\n",
       "      <td>2200</td>\n",
       "    </tr>\n",
       "  </tbody>\n",
       "</table>\n",
       "<p>216412 rows × 1 columns</p>\n",
       "</div>"
      ],
      "text/plain": [
       "        time_occ\n",
       "0           1200\n",
       "1            800\n",
       "2           1200\n",
       "3           1400\n",
       "4            300\n",
       "...          ...\n",
       "216407      2350\n",
       "216408      1245\n",
       "216409         5\n",
       "216410      1300\n",
       "216411      2200\n",
       "\n",
       "[216412 rows x 1 columns]"
      ]
     },
     "execution_count": 721,
     "metadata": {},
     "output_type": "execute_result"
    }
   ],
   "source": [
    "time_2019 = df_2019[['time_occ']]\n",
    "time_2019"
   ]
  },
  {
   "cell_type": "code",
   "execution_count": 705,
   "metadata": {
    "execution": {
     "iopub.execute_input": "2020-07-22T18:07:02.184039Z",
     "iopub.status.busy": "2020-07-22T18:07:02.183770Z",
     "iopub.status.idle": "2020-07-22T18:07:02.227889Z",
     "shell.execute_reply": "2020-07-22T18:07:02.226489Z",
     "shell.execute_reply.started": "2020-07-22T18:07:02.183987Z"
    }
   },
   "outputs": [
    {
     "data": {
      "text/plain": [
       "76139"
      ]
     },
     "execution_count": 705,
     "metadata": {},
     "output_type": "execute_result"
    }
   ],
   "source": [
    "# Count number of crimes between 12:00AM and 11:59AM\n",
    "am_time_2019 = time_2019.where( (time_2019['time_occ'] >= 0) & (time_2019['time_occ'] < 1200) ).count().sum()\n",
    "am_time_2019 "
   ]
  },
  {
   "cell_type": "code",
   "execution_count": 706,
   "metadata": {
    "execution": {
     "iopub.execute_input": "2020-07-22T18:07:09.307339Z",
     "iopub.status.busy": "2020-07-22T18:07:09.307077Z",
     "iopub.status.idle": "2020-07-22T18:07:09.350170Z",
     "shell.execute_reply": "2020-07-22T18:07:09.349339Z",
     "shell.execute_reply.started": "2020-07-22T18:07:09.307297Z"
    }
   },
   "outputs": [
    {
     "data": {
      "text/plain": [
       "140273"
      ]
     },
     "execution_count": 706,
     "metadata": {},
     "output_type": "execute_result"
    }
   ],
   "source": [
    "# Count number of crimes between 12:00PM and 11:59PM\n",
    "pm_time_2019 = time_2019.where( (time_2019['time_occ'] >= 1200) ).count().sum()\n",
    "pm_time_2019"
   ]
  },
  {
   "cell_type": "code",
   "execution_count": 722,
   "metadata": {
    "execution": {
     "iopub.execute_input": "2020-07-22T18:28:49.357421Z",
     "iopub.status.busy": "2020-07-22T18:28:49.357026Z",
     "iopub.status.idle": "2020-07-22T18:28:49.378545Z",
     "shell.execute_reply": "2020-07-22T18:28:49.377602Z",
     "shell.execute_reply.started": "2020-07-22T18:28:49.357354Z"
    }
   },
   "outputs": [
    {
     "data": {
      "text/html": [
       "<div>\n",
       "<style scoped>\n",
       "    .dataframe tbody tr th:only-of-type {\n",
       "        vertical-align: middle;\n",
       "    }\n",
       "\n",
       "    .dataframe tbody tr th {\n",
       "        vertical-align: top;\n",
       "    }\n",
       "\n",
       "    .dataframe thead th {\n",
       "        text-align: right;\n",
       "    }\n",
       "</style>\n",
       "<table border=\"1\" class=\"dataframe\">\n",
       "  <thead>\n",
       "    <tr style=\"text-align: right;\">\n",
       "      <th></th>\n",
       "      <th>time_occ</th>\n",
       "    </tr>\n",
       "  </thead>\n",
       "  <tbody>\n",
       "    <tr>\n",
       "      <th>0</th>\n",
       "      <td>2200</td>\n",
       "    </tr>\n",
       "    <tr>\n",
       "      <th>1</th>\n",
       "      <td>800</td>\n",
       "    </tr>\n",
       "    <tr>\n",
       "      <th>2</th>\n",
       "      <td>155</td>\n",
       "    </tr>\n",
       "    <tr>\n",
       "      <th>3</th>\n",
       "      <td>700</td>\n",
       "    </tr>\n",
       "    <tr>\n",
       "      <th>4</th>\n",
       "      <td>830</td>\n",
       "    </tr>\n",
       "    <tr>\n",
       "      <th>...</th>\n",
       "      <td>...</td>\n",
       "    </tr>\n",
       "    <tr>\n",
       "      <th>228358</th>\n",
       "      <td>600</td>\n",
       "    </tr>\n",
       "    <tr>\n",
       "      <th>228359</th>\n",
       "      <td>1900</td>\n",
       "    </tr>\n",
       "    <tr>\n",
       "      <th>228360</th>\n",
       "      <td>100</td>\n",
       "    </tr>\n",
       "    <tr>\n",
       "      <th>228361</th>\n",
       "      <td>1419</td>\n",
       "    </tr>\n",
       "    <tr>\n",
       "      <th>228362</th>\n",
       "      <td>1500</td>\n",
       "    </tr>\n",
       "  </tbody>\n",
       "</table>\n",
       "<p>228363 rows × 1 columns</p>\n",
       "</div>"
      ],
      "text/plain": [
       "        time_occ\n",
       "0           2200\n",
       "1            800\n",
       "2            155\n",
       "3            700\n",
       "4            830\n",
       "...          ...\n",
       "228358       600\n",
       "228359      1900\n",
       "228360       100\n",
       "228361      1419\n",
       "228362      1500\n",
       "\n",
       "[228363 rows x 1 columns]"
      ]
     },
     "execution_count": 722,
     "metadata": {},
     "output_type": "execute_result"
    }
   ],
   "source": [
    "time_2018 = df_2018[['time_occ']]\n",
    "time_2018"
   ]
  },
  {
   "cell_type": "code",
   "execution_count": 723,
   "metadata": {
    "execution": {
     "iopub.execute_input": "2020-07-22T18:28:56.032720Z",
     "iopub.status.busy": "2020-07-22T18:28:56.032397Z",
     "iopub.status.idle": "2020-07-22T18:28:56.090144Z",
     "shell.execute_reply": "2020-07-22T18:28:56.089242Z",
     "shell.execute_reply.started": "2020-07-22T18:28:56.032674Z"
    }
   },
   "outputs": [
    {
     "data": {
      "text/plain": [
       "80233"
      ]
     },
     "execution_count": 723,
     "metadata": {},
     "output_type": "execute_result"
    }
   ],
   "source": [
    "# Count number of crimes between 12:00AM and 11:59PM\n",
    "am_time_2018 = time_2018.where( (time_2018['time_occ'] >= 0) & (time_2018['time_occ'] < 1200) ).count().sum()\n",
    "am_time_2018"
   ]
  },
  {
   "cell_type": "code",
   "execution_count": 724,
   "metadata": {
    "execution": {
     "iopub.execute_input": "2020-07-22T18:28:57.841651Z",
     "iopub.status.busy": "2020-07-22T18:28:57.841392Z",
     "iopub.status.idle": "2020-07-22T18:28:57.885179Z",
     "shell.execute_reply": "2020-07-22T18:28:57.884390Z",
     "shell.execute_reply.started": "2020-07-22T18:28:57.841610Z"
    }
   },
   "outputs": [
    {
     "data": {
      "text/plain": [
       "148130"
      ]
     },
     "execution_count": 724,
     "metadata": {},
     "output_type": "execute_result"
    }
   ],
   "source": [
    "# Count number of crimes between 12:00PM and 11:59PM\n",
    "pm_time_2018 = time_2018.where( (time_2018['time_occ'] >= 1200) ).count().sum()\n",
    "pm_time_2018"
   ]
  },
  {
   "cell_type": "markdown",
   "metadata": {},
   "source": [
    "In 2018, the number of crimes between **12:00AM and 11:59AM** was **80,233** and between **12:00PM and 11:59PM** a total of **148,130** crimes occured.\n",
    "                \n",
    "                \n",
    "                "
   ]
  },
  {
   "cell_type": "markdown",
   "metadata": {},
   "source": [
    "In 2019, the number of crimes between **12:00AM and 11:59AM** was **76,139** and between **12:00PM and 11:59PM** a total of **140,273** crimes occured."
   ]
  },
  {
   "cell_type": "markdown",
   "metadata": {},
   "source": [
    "### Exploring Date and Day of Crime"
   ]
  },
  {
   "cell_type": "code",
   "execution_count": 831,
   "metadata": {
    "execution": {
     "iopub.execute_input": "2020-07-22T21:26:04.196625Z",
     "iopub.status.busy": "2020-07-22T21:26:04.196357Z",
     "iopub.status.idle": "2020-07-22T21:26:04.200489Z",
     "shell.execute_reply": "2020-07-22T21:26:04.199561Z",
     "shell.execute_reply.started": "2020-07-22T21:26:04.196580Z"
    }
   },
   "outputs": [],
   "source": [
    "import datetime\n",
    "from datetime import datetime"
   ]
  },
  {
   "cell_type": "code",
   "execution_count": 847,
   "metadata": {
    "execution": {
     "iopub.execute_input": "2020-07-22T21:35:00.601848Z",
     "iopub.status.busy": "2020-07-22T21:35:00.601569Z",
     "iopub.status.idle": "2020-07-22T21:35:00.608551Z",
     "shell.execute_reply": "2020-07-22T21:35:00.607711Z",
     "shell.execute_reply.started": "2020-07-22T21:35:00.601800Z"
    }
   },
   "outputs": [],
   "source": [
    "# Define helper function to convert date to day of week\n",
    "import datetime\n",
    "\n",
    "def day_of_week(date_string):\n",
    "    '''Takes in string of date in format \"%Y-%m-%dT%H:%M:%S.%f\" and converts to string of day of week (e.g. Monday)'''\n",
    "    new_format = \"%Y-%m-%d\"\n",
    "    formatted_date =  datetime.datetime.strptime(date_string, \"%Y-%m-%dT%H:%M:%S.%f\").strftime(new_format)\n",
    "    day = datetime.datetime.strptime(date_string, \"%Y-%m-%dT%H:%M:%S.%f\").strftime(\"%A\")\n",
    "    return day\n"
   ]
  },
  {
   "cell_type": "code",
   "execution_count": 870,
   "metadata": {
    "execution": {
     "iopub.execute_input": "2020-07-22T21:44:48.077736Z",
     "iopub.status.busy": "2020-07-22T21:44:48.077477Z",
     "iopub.status.idle": "2020-07-22T21:44:48.127767Z",
     "shell.execute_reply": "2020-07-22T21:44:48.126911Z",
     "shell.execute_reply.started": "2020-07-22T21:44:48.077696Z"
    }
   },
   "outputs": [],
   "source": [
    "df_2018['day_of_week'] = pd.Series(day_series)"
   ]
  },
  {
   "cell_type": "code",
   "execution_count": 875,
   "metadata": {
    "execution": {
     "iopub.execute_input": "2020-07-22T21:49:19.475217Z",
     "iopub.status.busy": "2020-07-22T21:49:19.474918Z",
     "iopub.status.idle": "2020-07-22T21:49:19.494329Z",
     "shell.execute_reply": "2020-07-22T21:49:19.493648Z",
     "shell.execute_reply.started": "2020-07-22T21:49:19.475165Z"
    }
   },
   "outputs": [
    {
     "data": {
      "text/html": [
       "<div>\n",
       "<style scoped>\n",
       "    .dataframe tbody tr th:only-of-type {\n",
       "        vertical-align: middle;\n",
       "    }\n",
       "\n",
       "    .dataframe tbody tr th {\n",
       "        vertical-align: top;\n",
       "    }\n",
       "\n",
       "    .dataframe thead th {\n",
       "        text-align: right;\n",
       "    }\n",
       "</style>\n",
       "<table border=\"1\" class=\"dataframe\">\n",
       "  <thead>\n",
       "    <tr style=\"text-align: right;\">\n",
       "      <th></th>\n",
       "      <th>date_occ</th>\n",
       "      <th>day_of_week</th>\n",
       "    </tr>\n",
       "  </thead>\n",
       "  <tbody>\n",
       "    <tr>\n",
       "      <th>0</th>\n",
       "      <td>2018-01-01T00:00:00.000</td>\n",
       "      <td>Monday</td>\n",
       "    </tr>\n",
       "    <tr>\n",
       "      <th>1</th>\n",
       "      <td>2018-01-01T00:00:00.000</td>\n",
       "      <td>Monday</td>\n",
       "    </tr>\n",
       "    <tr>\n",
       "      <th>2</th>\n",
       "      <td>2018-01-01T00:00:00.000</td>\n",
       "      <td>Monday</td>\n",
       "    </tr>\n",
       "    <tr>\n",
       "      <th>3</th>\n",
       "      <td>2018-01-01T00:00:00.000</td>\n",
       "      <td>Monday</td>\n",
       "    </tr>\n",
       "    <tr>\n",
       "      <th>4</th>\n",
       "      <td>2018-01-01T00:00:00.000</td>\n",
       "      <td>Monday</td>\n",
       "    </tr>\n",
       "    <tr>\n",
       "      <th>...</th>\n",
       "      <td>...</td>\n",
       "      <td>...</td>\n",
       "    </tr>\n",
       "    <tr>\n",
       "      <th>228358</th>\n",
       "      <td>2018-12-31T00:00:00.000</td>\n",
       "      <td>Monday</td>\n",
       "    </tr>\n",
       "    <tr>\n",
       "      <th>228359</th>\n",
       "      <td>2018-12-31T00:00:00.000</td>\n",
       "      <td>Monday</td>\n",
       "    </tr>\n",
       "    <tr>\n",
       "      <th>228360</th>\n",
       "      <td>2018-12-31T00:00:00.000</td>\n",
       "      <td>Monday</td>\n",
       "    </tr>\n",
       "    <tr>\n",
       "      <th>228361</th>\n",
       "      <td>2018-12-31T00:00:00.000</td>\n",
       "      <td>Monday</td>\n",
       "    </tr>\n",
       "    <tr>\n",
       "      <th>228362</th>\n",
       "      <td>2018-12-31T00:00:00.000</td>\n",
       "      <td>Monday</td>\n",
       "    </tr>\n",
       "  </tbody>\n",
       "</table>\n",
       "<p>228363 rows × 2 columns</p>\n",
       "</div>"
      ],
      "text/plain": [
       "                       date_occ day_of_week\n",
       "0       2018-01-01T00:00:00.000      Monday\n",
       "1       2018-01-01T00:00:00.000      Monday\n",
       "2       2018-01-01T00:00:00.000      Monday\n",
       "3       2018-01-01T00:00:00.000      Monday\n",
       "4       2018-01-01T00:00:00.000      Monday\n",
       "...                         ...         ...\n",
       "228358  2018-12-31T00:00:00.000      Monday\n",
       "228359  2018-12-31T00:00:00.000      Monday\n",
       "228360  2018-12-31T00:00:00.000      Monday\n",
       "228361  2018-12-31T00:00:00.000      Monday\n",
       "228362  2018-12-31T00:00:00.000      Monday\n",
       "\n",
       "[228363 rows x 2 columns]"
      ]
     },
     "execution_count": 875,
     "metadata": {},
     "output_type": "execute_result"
    }
   ],
   "source": [
    "df_2018_day = df_2018[['date_occ','day_of_week']]\n",
    "df_2018_day"
   ]
  },
  {
   "cell_type": "code",
   "execution_count": 876,
   "metadata": {
    "execution": {
     "iopub.execute_input": "2020-07-22T21:49:56.677382Z",
     "iopub.status.busy": "2020-07-22T21:49:56.677117Z",
     "iopub.status.idle": "2020-07-22T21:49:56.760462Z",
     "shell.execute_reply": "2020-07-22T21:49:56.759326Z",
     "shell.execute_reply.started": "2020-07-22T21:49:56.677340Z"
    }
   },
   "outputs": [
    {
     "data": {
      "text/html": [
       "<div>\n",
       "<style scoped>\n",
       "    .dataframe tbody tr th:only-of-type {\n",
       "        vertical-align: middle;\n",
       "    }\n",
       "\n",
       "    .dataframe tbody tr th {\n",
       "        vertical-align: top;\n",
       "    }\n",
       "\n",
       "    .dataframe thead th {\n",
       "        text-align: right;\n",
       "    }\n",
       "</style>\n",
       "<table border=\"1\" class=\"dataframe\">\n",
       "  <thead>\n",
       "    <tr style=\"text-align: right;\">\n",
       "      <th></th>\n",
       "      <th>day_of_week</th>\n",
       "      <th>count</th>\n",
       "    </tr>\n",
       "  </thead>\n",
       "  <tbody>\n",
       "    <tr>\n",
       "      <th>0</th>\n",
       "      <td>Friday</td>\n",
       "      <td>34222</td>\n",
       "    </tr>\n",
       "    <tr>\n",
       "      <th>1</th>\n",
       "      <td>Monday</td>\n",
       "      <td>33510</td>\n",
       "    </tr>\n",
       "    <tr>\n",
       "      <th>2</th>\n",
       "      <td>Saturday</td>\n",
       "      <td>32705</td>\n",
       "    </tr>\n",
       "    <tr>\n",
       "      <th>4</th>\n",
       "      <td>Thursday</td>\n",
       "      <td>32361</td>\n",
       "    </tr>\n",
       "    <tr>\n",
       "      <th>6</th>\n",
       "      <td>Wednesday</td>\n",
       "      <td>32297</td>\n",
       "    </tr>\n",
       "    <tr>\n",
       "      <th>3</th>\n",
       "      <td>Sunday</td>\n",
       "      <td>31651</td>\n",
       "    </tr>\n",
       "    <tr>\n",
       "      <th>5</th>\n",
       "      <td>Tuesday</td>\n",
       "      <td>31617</td>\n",
       "    </tr>\n",
       "  </tbody>\n",
       "</table>\n",
       "</div>"
      ],
      "text/plain": [
       "  day_of_week  count\n",
       "0      Friday  34222\n",
       "1      Monday  33510\n",
       "2    Saturday  32705\n",
       "4    Thursday  32361\n",
       "6   Wednesday  32297\n",
       "3      Sunday  31651\n",
       "5     Tuesday  31617"
      ]
     },
     "execution_count": 876,
     "metadata": {},
     "output_type": "execute_result"
    }
   ],
   "source": [
    "# group by count of day of week by descending order\n",
    "day_count_2018 = df_2018_day.groupby('day_of_week').size().reset_index(name='count').sort_values(by='count',ascending=False)\n",
    "day_count_2018"
   ]
  },
  {
   "cell_type": "code",
   "execution_count": 881,
   "metadata": {
    "execution": {
     "iopub.execute_input": "2020-07-22T21:54:47.965613Z",
     "iopub.status.busy": "2020-07-22T21:54:47.965231Z",
     "iopub.status.idle": "2020-07-22T21:54:47.995286Z",
     "shell.execute_reply": "2020-07-22T21:54:47.994433Z",
     "shell.execute_reply.started": "2020-07-22T21:54:47.965544Z"
    }
   },
   "outputs": [
    {
     "data": {
      "text/html": [
       "<div>\n",
       "<style scoped>\n",
       "    .dataframe tbody tr th:only-of-type {\n",
       "        vertical-align: middle;\n",
       "    }\n",
       "\n",
       "    .dataframe tbody tr th {\n",
       "        vertical-align: top;\n",
       "    }\n",
       "\n",
       "    .dataframe thead th {\n",
       "        text-align: right;\n",
       "    }\n",
       "</style>\n",
       "<table border=\"1\" class=\"dataframe\">\n",
       "  <thead>\n",
       "    <tr style=\"text-align: right;\">\n",
       "      <th></th>\n",
       "      <th>day_of_week</th>\n",
       "      <th>count</th>\n",
       "    </tr>\n",
       "  </thead>\n",
       "  <tbody>\n",
       "    <tr>\n",
       "      <th>0</th>\n",
       "      <td>Friday</td>\n",
       "      <td>32809</td>\n",
       "    </tr>\n",
       "    <tr>\n",
       "      <th>2</th>\n",
       "      <td>Saturday</td>\n",
       "      <td>31419</td>\n",
       "    </tr>\n",
       "    <tr>\n",
       "      <th>1</th>\n",
       "      <td>Monday</td>\n",
       "      <td>30795</td>\n",
       "    </tr>\n",
       "    <tr>\n",
       "      <th>5</th>\n",
       "      <td>Tuesday</td>\n",
       "      <td>30540</td>\n",
       "    </tr>\n",
       "    <tr>\n",
       "      <th>4</th>\n",
       "      <td>Thursday</td>\n",
       "      <td>30524</td>\n",
       "    </tr>\n",
       "    <tr>\n",
       "      <th>6</th>\n",
       "      <td>Wednesday</td>\n",
       "      <td>30268</td>\n",
       "    </tr>\n",
       "    <tr>\n",
       "      <th>3</th>\n",
       "      <td>Sunday</td>\n",
       "      <td>30057</td>\n",
       "    </tr>\n",
       "  </tbody>\n",
       "</table>\n",
       "</div>"
      ],
      "text/plain": [
       "  day_of_week  count\n",
       "0      Friday  32809\n",
       "2    Saturday  31419\n",
       "1      Monday  30795\n",
       "5     Tuesday  30540\n",
       "4    Thursday  30524\n",
       "6   Wednesday  30268\n",
       "3      Sunday  30057"
      ]
     },
     "execution_count": 881,
     "metadata": {},
     "output_type": "execute_result"
    }
   ],
   "source": [
    "# group by count of day of week by descending order\n",
    "day_count_2019 = df_2019_day.groupby('day_of_week').size().reset_index(name='count').sort_values(by='count',ascending=False)\n",
    "day_count_2019"
   ]
  },
  {
   "cell_type": "markdown",
   "metadata": {
    "execution": {
     "iopub.execute_input": "2020-07-22T21:57:47.602300Z",
     "iopub.status.busy": "2020-07-22T21:57:47.602012Z",
     "iopub.status.idle": "2020-07-22T21:57:47.605732Z",
     "shell.execute_reply": "2020-07-22T21:57:47.604626Z",
     "shell.execute_reply.started": "2020-07-22T21:57:47.602259Z"
    }
   },
   "source": [
    "### Hypothesis Test"
   ]
  },
  {
   "cell_type": "markdown",
   "metadata": {
    "execution": {
     "iopub.execute_input": "2020-07-21T22:51:39.061749Z",
     "iopub.status.busy": "2020-07-21T22:51:39.061445Z",
     "iopub.status.idle": "2020-07-21T22:51:39.067341Z",
     "shell.execute_reply": "2020-07-21T22:51:39.066451Z",
     "shell.execute_reply.started": "2020-07-21T22:51:39.061669Z"
    }
   },
   "source": [
    "### Compare Crime by Victim"
   ]
  },
  {
   "cell_type": "code",
   "execution_count": 280,
   "metadata": {
    "execution": {
     "iopub.execute_input": "2020-07-22T02:10:53.850009Z",
     "iopub.status.busy": "2020-07-22T02:10:53.849748Z",
     "iopub.status.idle": "2020-07-22T02:10:53.953489Z",
     "shell.execute_reply": "2020-07-22T02:10:53.952043Z",
     "shell.execute_reply.started": "2020-07-22T02:10:53.849967Z"
    }
   },
   "outputs": [
    {
     "data": {
      "text/plain": [
       "(185603, 28)"
      ]
     },
     "execution_count": 280,
     "metadata": {},
     "output_type": "execute_result"
    }
   ],
   "source": [
    "# Drop all rows where vict_age column less than or equal to 0 OR greater than or equal to 99\n",
    "df_victim_2018 = df_2018.drop(df_2018[ (df_2018['vict_age'] <= 0) | (df_2018['vict_age'] >= 99) ].index)\n",
    "df_victim_2018.shape"
   ]
  },
  {
   "cell_type": "code",
   "execution_count": 281,
   "metadata": {
    "execution": {
     "iopub.execute_input": "2020-07-22T02:11:26.442625Z",
     "iopub.status.busy": "2020-07-22T02:11:26.442359Z",
     "iopub.status.idle": "2020-07-22T02:11:26.550913Z",
     "shell.execute_reply": "2020-07-22T02:11:26.550189Z",
     "shell.execute_reply.started": "2020-07-22T02:11:26.442574Z"
    }
   },
   "outputs": [
    {
     "data": {
      "text/plain": [
       "(185577, 28)"
      ]
     },
     "execution_count": 281,
     "metadata": {},
     "output_type": "execute_result"
    }
   ],
   "source": [
    "# Drop all rows where vict_sex equal to 'N' or 'H'\n",
    "df_victim_2018 = df_victim_2018.drop(df_victim_2018[ (df_victim_2018['vict_sex'] == 'N') | (df_victim_2018['vict_sex'] == 'H') ].index)\n",
    "df_victim_2018.shape"
   ]
  },
  {
   "cell_type": "code",
   "execution_count": 291,
   "metadata": {
    "execution": {
     "iopub.execute_input": "2020-07-22T02:13:37.844363Z",
     "iopub.status.busy": "2020-07-22T02:13:37.844095Z",
     "iopub.status.idle": "2020-07-22T02:13:37.936763Z",
     "shell.execute_reply": "2020-07-22T02:13:37.934910Z",
     "shell.execute_reply.started": "2020-07-22T02:13:37.844321Z"
    }
   },
   "outputs": [
    {
     "data": {
      "text/plain": [
       "(185563, 28)"
      ]
     },
     "execution_count": 291,
     "metadata": {},
     "output_type": "execute_result"
    }
   ],
   "source": [
    "# Drop all rows where vict_sex or vict_descent column has a null value\n",
    "df_victim_2018 = df_victim_2018.dropna(how='any', subset=['vict_sex', 'vict_descent'])\n",
    "df_victim_2018.shape"
   ]
  },
  {
   "cell_type": "markdown",
   "metadata": {},
   "source": [
    "The dataset for **2018** has been filtered from **228,363** to **185,563** observations."
   ]
  },
  {
   "cell_type": "code",
   "execution_count": 285,
   "metadata": {
    "execution": {
     "iopub.execute_input": "2020-07-22T02:12:02.720594Z",
     "iopub.status.busy": "2020-07-22T02:12:02.720335Z",
     "iopub.status.idle": "2020-07-22T02:12:02.811857Z",
     "shell.execute_reply": "2020-07-22T02:12:02.808941Z",
     "shell.execute_reply.started": "2020-07-22T02:12:02.720553Z"
    }
   },
   "outputs": [
    {
     "data": {
      "text/plain": [
       "(174723, 28)"
      ]
     },
     "execution_count": 285,
     "metadata": {},
     "output_type": "execute_result"
    }
   ],
   "source": [
    "# Drop all rows where vict_age column less than or equal to 0 OR greater than or equal to 99\n",
    "df_victim_2019 = df_2019.drop(df_2019[ (df_2019['vict_age'] <= 0) | (df_2019['vict_age'] >= 99) ].index)\n",
    "df_victim_2019.shape"
   ]
  },
  {
   "cell_type": "code",
   "execution_count": 286,
   "metadata": {
    "execution": {
     "iopub.execute_input": "2020-07-22T02:12:20.969590Z",
     "iopub.status.busy": "2020-07-22T02:12:20.969300Z",
     "iopub.status.idle": "2020-07-22T02:12:21.055266Z",
     "shell.execute_reply": "2020-07-22T02:12:21.052578Z",
     "shell.execute_reply.started": "2020-07-22T02:12:20.969546Z"
    }
   },
   "outputs": [
    {
     "data": {
      "text/plain": [
       "(174718, 28)"
      ]
     },
     "execution_count": 286,
     "metadata": {},
     "output_type": "execute_result"
    }
   ],
   "source": [
    "# Drop all rows where vict_sex equal to 'N' or 'H'\n",
    "df_victim_2019 = df_victim_2019.drop(df_victim_2019[ (df_victim_2019['vict_sex'] == 'N') | (df_victim_2019['vict_sex'] == 'H') ].index)\n",
    "df_victim_2019.shape"
   ]
  },
  {
   "cell_type": "code",
   "execution_count": 287,
   "metadata": {
    "execution": {
     "iopub.execute_input": "2020-07-22T02:12:27.957482Z",
     "iopub.status.busy": "2020-07-22T02:12:27.957168Z",
     "iopub.status.idle": "2020-07-22T02:12:28.024109Z",
     "shell.execute_reply": "2020-07-22T02:12:28.023338Z",
     "shell.execute_reply.started": "2020-07-22T02:12:27.957426Z"
    }
   },
   "outputs": [
    {
     "data": {
      "text/plain": [
       "(174715, 28)"
      ]
     },
     "execution_count": 287,
     "metadata": {},
     "output_type": "execute_result"
    }
   ],
   "source": [
    "# Drop all rows where vict_sex or vict_descent column has a null value\n",
    "df_victim_2019 = df_victim_2019.dropna(how='any', subset=['vict_sex', 'vict_descent'])\n",
    "df_victim_2019.shape"
   ]
  },
  {
   "cell_type": "markdown",
   "metadata": {},
   "source": [
    "The dataset for **2019** has been filtered from **216,412** to **174,715** observations."
   ]
  },
  {
   "cell_type": "code",
   "execution_count": 292,
   "metadata": {
    "execution": {
     "iopub.execute_input": "2020-07-22T02:13:45.851366Z",
     "iopub.status.busy": "2020-07-22T02:13:45.851105Z",
     "iopub.status.idle": "2020-07-22T02:13:45.873191Z",
     "shell.execute_reply": "2020-07-22T02:13:45.872512Z",
     "shell.execute_reply.started": "2020-07-22T02:13:45.851324Z"
    }
   },
   "outputs": [
    {
     "data": {
      "text/html": [
       "<div>\n",
       "<style scoped>\n",
       "    .dataframe tbody tr th:only-of-type {\n",
       "        vertical-align: middle;\n",
       "    }\n",
       "\n",
       "    .dataframe tbody tr th {\n",
       "        vertical-align: top;\n",
       "    }\n",
       "\n",
       "    .dataframe thead th {\n",
       "        text-align: right;\n",
       "    }\n",
       "</style>\n",
       "<table border=\"1\" class=\"dataframe\">\n",
       "  <thead>\n",
       "    <tr style=\"text-align: right;\">\n",
       "      <th></th>\n",
       "      <th>vict_age</th>\n",
       "    </tr>\n",
       "  </thead>\n",
       "  <tbody>\n",
       "    <tr>\n",
       "      <th>count</th>\n",
       "      <td>185563.000000</td>\n",
       "    </tr>\n",
       "    <tr>\n",
       "      <th>mean</th>\n",
       "      <td>39.360745</td>\n",
       "    </tr>\n",
       "    <tr>\n",
       "      <th>std</th>\n",
       "      <td>15.961445</td>\n",
       "    </tr>\n",
       "    <tr>\n",
       "      <th>min</th>\n",
       "      <td>2.000000</td>\n",
       "    </tr>\n",
       "    <tr>\n",
       "      <th>25%</th>\n",
       "      <td>27.000000</td>\n",
       "    </tr>\n",
       "    <tr>\n",
       "      <th>50%</th>\n",
       "      <td>37.000000</td>\n",
       "    </tr>\n",
       "    <tr>\n",
       "      <th>75%</th>\n",
       "      <td>50.000000</td>\n",
       "    </tr>\n",
       "    <tr>\n",
       "      <th>max</th>\n",
       "      <td>98.000000</td>\n",
       "    </tr>\n",
       "  </tbody>\n",
       "</table>\n",
       "</div>"
      ],
      "text/plain": [
       "            vict_age\n",
       "count  185563.000000\n",
       "mean       39.360745\n",
       "std        15.961445\n",
       "min         2.000000\n",
       "25%        27.000000\n",
       "50%        37.000000\n",
       "75%        50.000000\n",
       "max        98.000000"
      ]
     },
     "execution_count": 292,
     "metadata": {},
     "output_type": "execute_result"
    }
   ],
   "source": [
    "# Select columns only describing the victim in 2018\n",
    "df_victim_only_2018 = df_victim_2018[['vict_age','vict_sex','vict_descent']]\n",
    "df_victim_only_2018.describe()"
   ]
  },
  {
   "cell_type": "markdown",
   "metadata": {
    "execution": {
     "iopub.execute_input": "2020-07-22T01:37:35.988370Z",
     "iopub.status.busy": "2020-07-22T01:37:35.988102Z",
     "iopub.status.idle": "2020-07-22T01:37:35.993728Z",
     "shell.execute_reply": "2020-07-22T01:37:35.992543Z",
     "shell.execute_reply.started": "2020-07-22T01:37:35.988325Z"
    }
   },
   "source": [
    "The average age of a crime victim in **2018** was **39.36** years old with a standard deviation of **15.96** "
   ]
  },
  {
   "cell_type": "code",
   "execution_count": 293,
   "metadata": {
    "execution": {
     "iopub.execute_input": "2020-07-22T02:13:50.922955Z",
     "iopub.status.busy": "2020-07-22T02:13:50.922688Z",
     "iopub.status.idle": "2020-07-22T02:13:50.945357Z",
     "shell.execute_reply": "2020-07-22T02:13:50.944587Z",
     "shell.execute_reply.started": "2020-07-22T02:13:50.922912Z"
    }
   },
   "outputs": [
    {
     "data": {
      "text/html": [
       "<div>\n",
       "<style scoped>\n",
       "    .dataframe tbody tr th:only-of-type {\n",
       "        vertical-align: middle;\n",
       "    }\n",
       "\n",
       "    .dataframe tbody tr th {\n",
       "        vertical-align: top;\n",
       "    }\n",
       "\n",
       "    .dataframe thead th {\n",
       "        text-align: right;\n",
       "    }\n",
       "</style>\n",
       "<table border=\"1\" class=\"dataframe\">\n",
       "  <thead>\n",
       "    <tr style=\"text-align: right;\">\n",
       "      <th></th>\n",
       "      <th>vict_age</th>\n",
       "    </tr>\n",
       "  </thead>\n",
       "  <tbody>\n",
       "    <tr>\n",
       "      <th>count</th>\n",
       "      <td>174715.000000</td>\n",
       "    </tr>\n",
       "    <tr>\n",
       "      <th>mean</th>\n",
       "      <td>39.283759</td>\n",
       "    </tr>\n",
       "    <tr>\n",
       "      <th>std</th>\n",
       "      <td>15.893238</td>\n",
       "    </tr>\n",
       "    <tr>\n",
       "      <th>min</th>\n",
       "      <td>2.000000</td>\n",
       "    </tr>\n",
       "    <tr>\n",
       "      <th>25%</th>\n",
       "      <td>27.000000</td>\n",
       "    </tr>\n",
       "    <tr>\n",
       "      <th>50%</th>\n",
       "      <td>37.000000</td>\n",
       "    </tr>\n",
       "    <tr>\n",
       "      <th>75%</th>\n",
       "      <td>50.000000</td>\n",
       "    </tr>\n",
       "    <tr>\n",
       "      <th>max</th>\n",
       "      <td>98.000000</td>\n",
       "    </tr>\n",
       "  </tbody>\n",
       "</table>\n",
       "</div>"
      ],
      "text/plain": [
       "            vict_age\n",
       "count  174715.000000\n",
       "mean       39.283759\n",
       "std        15.893238\n",
       "min         2.000000\n",
       "25%        27.000000\n",
       "50%        37.000000\n",
       "75%        50.000000\n",
       "max        98.000000"
      ]
     },
     "execution_count": 293,
     "metadata": {},
     "output_type": "execute_result"
    }
   ],
   "source": [
    "# Select columns only describing the victim in 2019\n",
    "df_victim_only_2019 = df_victim_2019[['vict_age','vict_sex','vict_descent']]\n",
    "df_victim_only_2019.describe()"
   ]
  },
  {
   "cell_type": "markdown",
   "metadata": {},
   "source": [
    "The average age of a crime victim in **2019** was **39.28** years old with a standard deviation of **15.89** "
   ]
  },
  {
   "cell_type": "code",
   "execution_count": 603,
   "metadata": {
    "execution": {
     "iopub.execute_input": "2020-07-22T16:50:32.705856Z",
     "iopub.status.busy": "2020-07-22T16:50:32.705542Z",
     "iopub.status.idle": "2020-07-22T16:50:33.153506Z",
     "shell.execute_reply": "2020-07-22T16:50:33.152772Z",
     "shell.execute_reply.started": "2020-07-22T16:50:32.705800Z"
    }
   },
   "outputs": [
    {
     "data": {
      "image/png": "[encoded data removed]",
      "text/plain": [
       "<Figure size 432x288 with 1 Axes>"
      ]
     },
     "metadata": {},
     "output_type": "display_data"
    }
   ],
   "source": [
    "# Plot histogram of age range and number of victims of crime by year\n",
    "fig, ax = plt.subplots(1)\n",
    "ax.hist(df_victim_only_2018['vict_age'], bins=20, color = 'r', label = \"2018\")\n",
    "ax.hist(df_victim_only_2019['vict_age'], bins=20, color = 'b', label = \"2019\")\n",
    "ax.set_xlabel('Age Range of Victim')\n",
    "ax.set_ylabel('Number of Victims')\n",
    "plt.title('Age Range and Number of Victims By Year')\n",
    "ax.legend()\n",
    "plt.show()"
   ]
  },
  {
   "cell_type": "code",
   "execution_count": 416,
   "metadata": {
    "execution": {
     "iopub.execute_input": "2020-07-22T03:33:12.071297Z",
     "iopub.status.busy": "2020-07-22T03:33:12.071033Z",
     "iopub.status.idle": "2020-07-22T03:33:12.096729Z",
     "shell.execute_reply": "2020-07-22T03:33:12.095985Z",
     "shell.execute_reply.started": "2020-07-22T03:33:12.071254Z"
    }
   },
   "outputs": [
    {
     "data": {
      "text/plain": [
       "M    93160\n",
       "F    90759\n",
       "X     1644\n",
       "Name: vict_sex, dtype: int64"
      ]
     },
     "execution_count": 416,
     "metadata": {},
     "output_type": "execute_result"
    }
   ],
   "source": [
    "# Check to see the counts of vict_sex (Male, Female) in 2018\n",
    "sex_count_2018 = df_victim_only_2018['vict_sex'].value_counts()\n",
    "sex_count_2018"
   ]
  },
  {
   "cell_type": "code",
   "execution_count": 417,
   "metadata": {
    "execution": {
     "iopub.execute_input": "2020-07-22T03:33:15.693951Z",
     "iopub.status.busy": "2020-07-22T03:33:15.693689Z",
     "iopub.status.idle": "2020-07-22T03:33:15.718254Z",
     "shell.execute_reply": "2020-07-22T03:33:15.717361Z",
     "shell.execute_reply.started": "2020-07-22T03:33:15.693907Z"
    }
   },
   "outputs": [
    {
     "data": {
      "text/plain": [
       "M    88513\n",
       "F    84558\n",
       "X     1644\n",
       "Name: vict_sex, dtype: int64"
      ]
     },
     "execution_count": 417,
     "metadata": {},
     "output_type": "execute_result"
    }
   ],
   "source": [
    "sex_count_2019 = df_victim_only_2019['vict_sex'].value_counts()\n",
    "sex_count_2019"
   ]
  },
  {
   "cell_type": "code",
   "execution_count": 408,
   "metadata": {
    "execution": {
     "iopub.execute_input": "2020-07-22T03:30:21.400102Z",
     "iopub.status.busy": "2020-07-22T03:30:21.399831Z",
     "iopub.status.idle": "2020-07-22T03:30:21.413943Z",
     "shell.execute_reply": "2020-07-22T03:30:21.413148Z",
     "shell.execute_reply.started": "2020-07-22T03:30:21.400061Z"
    }
   },
   "outputs": [
    {
     "data": {
      "text/html": [
       "<div>\n",
       "<style scoped>\n",
       "    .dataframe tbody tr th:only-of-type {\n",
       "        vertical-align: middle;\n",
       "    }\n",
       "\n",
       "    .dataframe tbody tr th {\n",
       "        vertical-align: top;\n",
       "    }\n",
       "\n",
       "    .dataframe thead th {\n",
       "        text-align: right;\n",
       "    }\n",
       "</style>\n",
       "<table border=\"1\" class=\"dataframe\">\n",
       "  <thead>\n",
       "    <tr style=\"text-align: right;\">\n",
       "      <th></th>\n",
       "      <th>index</th>\n",
       "      <th>vict_sex</th>\n",
       "      <th>vict_sex</th>\n",
       "    </tr>\n",
       "  </thead>\n",
       "  <tbody>\n",
       "    <tr>\n",
       "      <th>0</th>\n",
       "      <td>M</td>\n",
       "      <td>93160</td>\n",
       "      <td>88513</td>\n",
       "    </tr>\n",
       "    <tr>\n",
       "      <th>1</th>\n",
       "      <td>F</td>\n",
       "      <td>90759</td>\n",
       "      <td>84558</td>\n",
       "    </tr>\n",
       "    <tr>\n",
       "      <th>2</th>\n",
       "      <td>X</td>\n",
       "      <td>1644</td>\n",
       "      <td>1644</td>\n",
       "    </tr>\n",
       "  </tbody>\n",
       "</table>\n",
       "</div>"
      ],
      "text/plain": [
       "  index  vict_sex  vict_sex\n",
       "0     M     93160     88513\n",
       "1     F     90759     84558\n",
       "2     X      1644      1644"
      ]
     },
     "execution_count": 408,
     "metadata": {},
     "output_type": "execute_result"
    }
   ],
   "source": [
    "# Create new dataframe by concatenating the two Pandas series\n",
    "gender_count_yr = pd.concat([sex_count_2018, sex_count_2019], axis=1).reset_index()\n",
    "gender_count_yr"
   ]
  },
  {
   "cell_type": "code",
   "execution_count": 415,
   "metadata": {
    "execution": {
     "iopub.execute_input": "2020-07-22T03:33:02.089042Z",
     "iopub.status.busy": "2020-07-22T03:33:02.088779Z",
     "iopub.status.idle": "2020-07-22T03:33:02.098049Z",
     "shell.execute_reply": "2020-07-22T03:33:02.097153Z",
     "shell.execute_reply.started": "2020-07-22T03:33:02.089000Z"
    }
   },
   "outputs": [
    {
     "data": {
      "text/html": [
       "<div>\n",
       "<style scoped>\n",
       "    .dataframe tbody tr th:only-of-type {\n",
       "        vertical-align: middle;\n",
       "    }\n",
       "\n",
       "    .dataframe tbody tr th {\n",
       "        vertical-align: top;\n",
       "    }\n",
       "\n",
       "    .dataframe thead th {\n",
       "        text-align: right;\n",
       "    }\n",
       "</style>\n",
       "<table border=\"1\" class=\"dataframe\">\n",
       "  <thead>\n",
       "    <tr style=\"text-align: right;\">\n",
       "      <th></th>\n",
       "      <th>Gender</th>\n",
       "      <th>2018</th>\n",
       "      <th>2019</th>\n",
       "    </tr>\n",
       "  </thead>\n",
       "  <tbody>\n",
       "    <tr>\n",
       "      <th>0</th>\n",
       "      <td>M</td>\n",
       "      <td>93160</td>\n",
       "      <td>88513</td>\n",
       "    </tr>\n",
       "    <tr>\n",
       "      <th>1</th>\n",
       "      <td>F</td>\n",
       "      <td>90759</td>\n",
       "      <td>84558</td>\n",
       "    </tr>\n",
       "    <tr>\n",
       "      <th>2</th>\n",
       "      <td>X</td>\n",
       "      <td>1644</td>\n",
       "      <td>1644</td>\n",
       "    </tr>\n",
       "  </tbody>\n",
       "</table>\n",
       "</div>"
      ],
      "text/plain": [
       "  Gender   2018   2019\n",
       "0      M  93160  88513\n",
       "1      F  90759  84558\n",
       "2      X   1644   1644"
      ]
     },
     "execution_count": 415,
     "metadata": {},
     "output_type": "execute_result"
    }
   ],
   "source": [
    "# Rename column names to reflect gender and years\n",
    "gender_count_yr.columns = ['Gender','2018','2019']\n",
    "gender_count_yr"
   ]
  },
  {
   "cell_type": "code",
   "execution_count": 779,
   "metadata": {
    "execution": {
     "iopub.execute_input": "2020-07-22T19:38:33.616667Z",
     "iopub.status.busy": "2020-07-22T19:38:33.611917Z",
     "iopub.status.idle": "2020-07-22T19:38:34.404684Z",
     "shell.execute_reply": "2020-07-22T19:38:34.403825Z",
     "shell.execute_reply.started": "2020-07-22T19:38:33.616529Z"
    }
   },
   "outputs": [
    {
     "data": {
      "image/png": "[encoded data removed]",
      "text/plain": [
       "<Figure size 504x432 with 1 Axes>"
      ]
     },
     "metadata": {},
     "output_type": "display_data"
    }
   ],
   "source": [
    "# Compare Gender of Victims by Year\n",
    "with plt.xkcd():\n",
    "    sns.set(font_scale=1.4)\n",
    "    gender_count_yr.plot(kind='bar', figsize=(7,6), rot=0)\n",
    "    plt.xlabel(\"Gender\", labelpad=24)\n",
    "    plt.ylabel(\"Count of Victims\")\n",
    "    plt.xticks([0,1,2],['Male','Female','Unknown'])\n",
    "    plt.title(\"Count of Victims by Gender\", y=1.03)\n",
    "    plt.show()"
   ]
  },
  {
   "cell_type": "markdown",
   "metadata": {
    "execution": {
     "iopub.execute_input": "2020-07-21T22:44:58.127842Z",
     "iopub.status.busy": "2020-07-21T22:44:58.127560Z",
     "iopub.status.idle": "2020-07-21T22:44:58.131086Z",
     "shell.execute_reply": "2020-07-21T22:44:58.130348Z",
     "shell.execute_reply.started": "2020-07-21T22:44:58.127794Z"
    }
   },
   "source": [
    "## Exploring Geographic Data"
   ]
  },
  {
   "cell_type": "markdown",
   "metadata": {},
   "source": [
    "### By Zip Code"
   ]
  },
  {
   "cell_type": "markdown",
   "metadata": {},
   "source": [
    "Here we convert GPS coordinates from latitude and longitude to Zip Codes and create a new column in the dataframe with these values."
   ]
  },
  {
   "cell_type": "code",
   "execution_count": 453,
   "metadata": {
    "execution": {
     "iopub.execute_input": "2020-07-22T04:04:49.122761Z",
     "iopub.status.busy": "2020-07-22T04:04:49.122398Z",
     "iopub.status.idle": "2020-07-22T04:04:49.403632Z",
     "shell.execute_reply": "2020-07-22T04:04:49.402702Z",
     "shell.execute_reply.started": "2020-07-22T04:04:49.122704Z"
    }
   },
   "outputs": [],
   "source": [
    "# Define helper function for converting GPS coordinates (latitude, longitude) to Zip Code\n",
    "from uszipcode import Zipcode\n",
    "from uszipcode import SearchEngine\n",
    "\n",
    "def gps_to_zip(lat, lon):\n",
    "    '''\n",
    "    Takes in parameters of latitude and longitude coordinates and converts to Zip Code\n",
    "    '''\n",
    "    try:\n",
    "        search = SearchEngine(simple_zipcode=True)\n",
    "        find_zip = search.by_coordinates(lat, lon)\n",
    "        zip_dict = find_zip[0].to_dict()\n",
    "        return zip_dict['zipcode']\n",
    "    except:\n",
    "        return None                "
   ]
  },
  {
   "cell_type": "code",
   "execution_count": 454,
   "metadata": {
    "execution": {
     "iopub.execute_input": "2020-07-22T04:04:53.058234Z",
     "iopub.status.busy": "2020-07-22T04:04:53.057959Z",
     "iopub.status.idle": "2020-07-22T04:04:53.061989Z",
     "shell.execute_reply": "2020-07-22T04:04:53.061219Z",
     "shell.execute_reply.started": "2020-07-22T04:04:53.058186Z"
    }
   },
   "outputs": [],
   "source": [
    "# Apply helper function using latitude and longitude rows as arguments in dataframe\n",
    "def row_to_zip_code(row):\n",
    "    return gps_to_zip(row['lat'],row['lon'])\n",
    "   "
   ]
  },
  {
   "cell_type": "code",
   "execution_count": 455,
   "metadata": {
    "execution": {
     "iopub.execute_input": "2020-07-22T04:04:58.594793Z",
     "iopub.status.busy": "2020-07-22T04:04:58.594491Z",
     "iopub.status.idle": "2020-07-22T04:04:58.648019Z",
     "shell.execute_reply": "2020-07-22T04:04:58.647231Z",
     "shell.execute_reply.started": "2020-07-22T04:04:58.594741Z"
    }
   },
   "outputs": [
    {
     "data": {
      "text/plain": [
       "'90011'"
      ]
     },
     "execution_count": 455,
     "metadata": {},
     "output_type": "execute_result"
    }
   ],
   "source": [
    "gps_to_zip(34.0219,-118.2571)"
   ]
  },
  {
   "cell_type": "code",
   "execution_count": 576,
   "metadata": {
    "execution": {
     "iopub.execute_input": "2020-07-22T04:56:37.874131Z",
     "iopub.status.busy": "2020-07-22T04:56:37.873759Z",
     "iopub.status.idle": "2020-07-22T05:51:03.284232Z",
     "shell.execute_reply": "2020-07-22T05:51:03.283543Z",
     "shell.execute_reply.started": "2020-07-22T04:56:37.874061Z"
    }
   },
   "outputs": [
    {
     "data": {
      "text/plain": [
       "20000     90031\n",
       "20001     90062\n",
       "20002     91303\n",
       "20003     90036\n",
       "20004     90013\n",
       "          ...  \n",
       "216407    90011\n",
       "216408    91602\n",
       "216409    91356\n",
       "216410    90012\n",
       "216411    91423\n",
       "Length: 196412, dtype: object"
      ]
     },
     "execution_count": 576,
     "metadata": {},
     "output_type": "execute_result"
    }
   ],
   "source": [
    "# Create pandas series of zip codes and apply the helper function to convert from GPS coordinates \n",
    "zip_2019 = df_2019.iloc[:,:].apply(row_to_zip_code, axis = 1)\n",
    "zip_2019"
   ]
  },
  {
   "cell_type": "markdown",
   "metadata": {},
   "source": [
    "Let's look at the counts of the Zip Codes with the highest number of crimes."
   ]
  },
  {
   "cell_type": "code",
   "execution_count": 604,
   "metadata": {
    "execution": {
     "iopub.execute_input": "2020-07-22T16:52:03.312850Z",
     "iopub.status.busy": "2020-07-22T16:52:03.312503Z",
     "iopub.status.idle": "2020-07-22T16:52:03.376062Z",
     "shell.execute_reply": "2020-07-22T16:52:03.375101Z",
     "shell.execute_reply.started": "2020-07-22T16:52:03.312801Z"
    }
   },
   "outputs": [
    {
     "data": {
      "text/html": [
       "<div>\n",
       "<style scoped>\n",
       "    .dataframe tbody tr th:only-of-type {\n",
       "        vertical-align: middle;\n",
       "    }\n",
       "\n",
       "    .dataframe tbody tr th {\n",
       "        vertical-align: top;\n",
       "    }\n",
       "\n",
       "    .dataframe thead th {\n",
       "        text-align: right;\n",
       "    }\n",
       "</style>\n",
       "<table border=\"1\" class=\"dataframe\">\n",
       "  <thead>\n",
       "    <tr style=\"text-align: right;\">\n",
       "      <th></th>\n",
       "      <th>zip_code</th>\n",
       "      <th>count</th>\n",
       "    </tr>\n",
       "  </thead>\n",
       "  <tbody>\n",
       "    <tr>\n",
       "      <th>25</th>\n",
       "      <td>90028</td>\n",
       "      <td>6587</td>\n",
       "    </tr>\n",
       "    <tr>\n",
       "      <th>33</th>\n",
       "      <td>90037</td>\n",
       "      <td>6405</td>\n",
       "    </tr>\n",
       "    <tr>\n",
       "      <th>2</th>\n",
       "      <td>90003</td>\n",
       "      <td>5752</td>\n",
       "    </tr>\n",
       "    <tr>\n",
       "      <th>9</th>\n",
       "      <td>90011</td>\n",
       "      <td>4993</td>\n",
       "    </tr>\n",
       "    <tr>\n",
       "      <th>46</th>\n",
       "      <td>90057</td>\n",
       "      <td>4991</td>\n",
       "    </tr>\n",
       "    <tr>\n",
       "      <th>...</th>\n",
       "      <td>...</td>\n",
       "      <td>...</td>\n",
       "    </tr>\n",
       "    <tr>\n",
       "      <th>89</th>\n",
       "      <td>90810</td>\n",
       "      <td>4</td>\n",
       "    </tr>\n",
       "    <tr>\n",
       "      <th>131</th>\n",
       "      <td>91502</td>\n",
       "      <td>2</td>\n",
       "    </tr>\n",
       "    <tr>\n",
       "      <th>78</th>\n",
       "      <td>90403</td>\n",
       "      <td>2</td>\n",
       "    </tr>\n",
       "    <tr>\n",
       "      <th>88</th>\n",
       "      <td>90804</td>\n",
       "      <td>1</td>\n",
       "    </tr>\n",
       "    <tr>\n",
       "      <th>94</th>\n",
       "      <td>91103</td>\n",
       "      <td>1</td>\n",
       "    </tr>\n",
       "  </tbody>\n",
       "</table>\n",
       "<p>142 rows × 2 columns</p>\n",
       "</div>"
      ],
      "text/plain": [
       "    zip_code  count\n",
       "25     90028   6587\n",
       "33     90037   6405\n",
       "2      90003   5752\n",
       "9      90011   4993\n",
       "46     90057   4991\n",
       "..       ...    ...\n",
       "89     90810      4\n",
       "131    91502      2\n",
       "78     90403      2\n",
       "88     90804      1\n",
       "94     91103      1\n",
       "\n",
       "[142 rows x 2 columns]"
      ]
     },
     "execution_count": 604,
     "metadata": {},
     "output_type": "execute_result"
    }
   ],
   "source": [
    "# Group by Zip Code\n",
    "zip_count_2019 = df_2019.groupby('zip_code').size().reset_index(name='count').sort_values(by='count',ascending=False)\n",
    "zip_count_2019"
   ]
  },
  {
   "cell_type": "markdown",
   "metadata": {},
   "source": [
    "### By Police District"
   ]
  },
  {
   "cell_type": "markdown",
   "metadata": {},
   "source": [
    "There are 21 official Police Districts under the jurisdiction of Los Angeles Police Department (LAPD).  We group together the different districts ( by 'area_name') to which areas have the highest counts of crime."
   ]
  },
  {
   "cell_type": "code",
   "execution_count": 617,
   "metadata": {
    "execution": {
     "iopub.execute_input": "2020-07-22T17:03:51.471308Z",
     "iopub.status.busy": "2020-07-22T17:03:51.470994Z",
     "iopub.status.idle": "2020-07-22T17:03:51.511092Z",
     "shell.execute_reply": "2020-07-22T17:03:51.510316Z",
     "shell.execute_reply.started": "2020-07-22T17:03:51.471258Z"
    }
   },
   "outputs": [
    {
     "data": {
      "text/html": [
       "<div>\n",
       "<style scoped>\n",
       "    .dataframe tbody tr th:only-of-type {\n",
       "        vertical-align: middle;\n",
       "    }\n",
       "\n",
       "    .dataframe tbody tr th {\n",
       "        vertical-align: top;\n",
       "    }\n",
       "\n",
       "    .dataframe thead th {\n",
       "        text-align: right;\n",
       "    }\n",
       "</style>\n",
       "<table border=\"1\" class=\"dataframe\">\n",
       "  <thead>\n",
       "    <tr style=\"text-align: right;\">\n",
       "      <th></th>\n",
       "      <th>area_name</th>\n",
       "      <th>count</th>\n",
       "    </tr>\n",
       "  </thead>\n",
       "  <tbody>\n",
       "    <tr>\n",
       "      <th>0</th>\n",
       "      <td>77th Street</td>\n",
       "      <td>14111</td>\n",
       "    </tr>\n",
       "    <tr>\n",
       "      <th>1</th>\n",
       "      <td>Central</td>\n",
       "      <td>13514</td>\n",
       "    </tr>\n",
       "    <tr>\n",
       "      <th>15</th>\n",
       "      <td>Southwest</td>\n",
       "      <td>13415</td>\n",
       "    </tr>\n",
       "    <tr>\n",
       "      <th>12</th>\n",
       "      <td>Pacific</td>\n",
       "      <td>12183</td>\n",
       "    </tr>\n",
       "    <tr>\n",
       "      <th>14</th>\n",
       "      <td>Southeast</td>\n",
       "      <td>11666</td>\n",
       "    </tr>\n",
       "    <tr>\n",
       "      <th>6</th>\n",
       "      <td>Hollywood</td>\n",
       "      <td>11079</td>\n",
       "    </tr>\n",
       "    <tr>\n",
       "      <th>8</th>\n",
       "      <td>N Hollywood</td>\n",
       "      <td>11000</td>\n",
       "    </tr>\n",
       "    <tr>\n",
       "      <th>9</th>\n",
       "      <td>Newton</td>\n",
       "      <td>10686</td>\n",
       "    </tr>\n",
       "    <tr>\n",
       "      <th>20</th>\n",
       "      <td>Wilshire</td>\n",
       "      <td>10359</td>\n",
       "    </tr>\n",
       "    <tr>\n",
       "      <th>11</th>\n",
       "      <td>Olympic</td>\n",
       "      <td>10153</td>\n",
       "    </tr>\n",
       "    <tr>\n",
       "      <th>16</th>\n",
       "      <td>Topanga</td>\n",
       "      <td>9572</td>\n",
       "    </tr>\n",
       "    <tr>\n",
       "      <th>10</th>\n",
       "      <td>Northeast</td>\n",
       "      <td>9568</td>\n",
       "    </tr>\n",
       "    <tr>\n",
       "      <th>17</th>\n",
       "      <td>Van Nuys</td>\n",
       "      <td>9478</td>\n",
       "    </tr>\n",
       "    <tr>\n",
       "      <th>13</th>\n",
       "      <td>Rampart</td>\n",
       "      <td>9455</td>\n",
       "    </tr>\n",
       "    <tr>\n",
       "      <th>18</th>\n",
       "      <td>West LA</td>\n",
       "      <td>9154</td>\n",
       "    </tr>\n",
       "    <tr>\n",
       "      <th>7</th>\n",
       "      <td>Mission</td>\n",
       "      <td>9060</td>\n",
       "    </tr>\n",
       "    <tr>\n",
       "      <th>2</th>\n",
       "      <td>Devonshire</td>\n",
       "      <td>8887</td>\n",
       "    </tr>\n",
       "    <tr>\n",
       "      <th>4</th>\n",
       "      <td>Harbor</td>\n",
       "      <td>8641</td>\n",
       "    </tr>\n",
       "    <tr>\n",
       "      <th>19</th>\n",
       "      <td>West Valley</td>\n",
       "      <td>8599</td>\n",
       "    </tr>\n",
       "    <tr>\n",
       "      <th>5</th>\n",
       "      <td>Hollenbeck</td>\n",
       "      <td>8303</td>\n",
       "    </tr>\n",
       "    <tr>\n",
       "      <th>3</th>\n",
       "      <td>Foothill</td>\n",
       "      <td>7529</td>\n",
       "    </tr>\n",
       "  </tbody>\n",
       "</table>\n",
       "</div>"
      ],
      "text/plain": [
       "      area_name  count\n",
       "0   77th Street  14111\n",
       "1       Central  13514\n",
       "15    Southwest  13415\n",
       "12      Pacific  12183\n",
       "14    Southeast  11666\n",
       "6     Hollywood  11079\n",
       "8   N Hollywood  11000\n",
       "9        Newton  10686\n",
       "20     Wilshire  10359\n",
       "11      Olympic  10153\n",
       "16      Topanga   9572\n",
       "10    Northeast   9568\n",
       "17     Van Nuys   9478\n",
       "13      Rampart   9455\n",
       "18      West LA   9154\n",
       "7       Mission   9060\n",
       "2    Devonshire   8887\n",
       "4        Harbor   8641\n",
       "19  West Valley   8599\n",
       "5    Hollenbeck   8303\n",
       "3      Foothill   7529"
      ]
     },
     "execution_count": 617,
     "metadata": {},
     "output_type": "execute_result"
    }
   ],
   "source": [
    "# group by police district area\n",
    "pd_area_count_2019 = df_2019.groupby('area_name').size().reset_index(name='count').sort_values(by='count',ascending=False)\n",
    "pd_area_count_2019"
   ]
  },
  {
   "cell_type": "markdown",
   "metadata": {},
   "source": [
    "### By Frequency in Specific Location"
   ]
  },
  {
   "cell_type": "markdown",
   "metadata": {},
   "source": [
    "Let's look at the frequency and concentration of crimes using the GPS coordinates. Black circles indicates a relative high crime count of 400 or more.  The larger circles indicate areas of higher concentration of crimes within that area."
   ]
  },
  {
   "cell_type": "code",
   "execution_count": 636,
   "metadata": {
    "execution": {
     "iopub.execute_input": "2020-07-22T17:15:59.982912Z",
     "iopub.status.busy": "2020-07-22T17:15:59.982611Z",
     "iopub.status.idle": "2020-07-22T17:16:00.051308Z",
     "shell.execute_reply": "2020-07-22T17:16:00.050347Z",
     "shell.execute_reply.started": "2020-07-22T17:15:59.982871Z"
    }
   },
   "outputs": [],
   "source": [
    "location_2019 = df_2019.groupby(['lat','lon','area_name']).size().reset_index(name='count').sort_values(by='count',ascending=False)\n",
    "location_2019 = location_2019[location_2019['count']>5]\n",
    "location_2019['color'] = location_2019['count'].apply(lambda count:\"Black\" if count>=400 else\n",
    "                                         \"green\" if count>=300 and count<400 else\n",
    "                                         \"Orange\" if count>=200 and count<300 else\n",
    "                                         \"darkblue\" if count>=150 and count<200 else\n",
    "                                         \"red\" if count>=100 and count<150 else\n",
    "                                         \"lightblue\" if count>=75 and count<100 else\n",
    "                                         \"brown\" if count>=50 and count<75 else\n",
    "                                         \"grey\")                                       "
   ]
  },
  {
   "cell_type": "code",
   "execution_count": 639,
   "metadata": {
    "execution": {
     "iopub.execute_input": "2020-07-22T17:20:21.343129Z",
     "iopub.status.busy": "2020-07-22T17:20:21.342870Z",
     "iopub.status.idle": "2020-07-22T17:20:21.354360Z",
     "shell.execute_reply": "2020-07-22T17:20:21.353685Z",
     "shell.execute_reply.started": "2020-07-22T17:20:21.343085Z"
    }
   },
   "outputs": [],
   "source": [
    "location_2019['size'] = location_2019['count'].apply(lambda count:12 if count>=400 else\n",
    "                                         10 if count>=300 and count<400 else\n",
    "                                         8 if count>=200 and count<300 else\n",
    "                                         6 if count>=150 and count<200 else\n",
    "                                         4 if count>=100 and count<150 else\n",
    "                                         2 if count>=75 and count<100 else\n",
    "                                         1 if count>=50 and count<75 else\n",
    "                                         0.1)"
   ]
  },
  {
   "cell_type": "code",
   "execution_count": 640,
   "metadata": {
    "execution": {
     "iopub.execute_input": "2020-07-22T17:20:23.529775Z",
     "iopub.status.busy": "2020-07-22T17:20:23.529490Z",
     "iopub.status.idle": "2020-07-22T17:20:23.549859Z",
     "shell.execute_reply": "2020-07-22T17:20:23.548731Z",
     "shell.execute_reply.started": "2020-07-22T17:20:23.529730Z"
    }
   },
   "outputs": [
    {
     "data": {
      "text/html": [
       "<div>\n",
       "<style scoped>\n",
       "    .dataframe tbody tr th:only-of-type {\n",
       "        vertical-align: middle;\n",
       "    }\n",
       "\n",
       "    .dataframe tbody tr th {\n",
       "        vertical-align: top;\n",
       "    }\n",
       "\n",
       "    .dataframe thead th {\n",
       "        text-align: right;\n",
       "    }\n",
       "</style>\n",
       "<table border=\"1\" class=\"dataframe\">\n",
       "  <thead>\n",
       "    <tr style=\"text-align: right;\">\n",
       "      <th></th>\n",
       "      <th>lat</th>\n",
       "      <th>lon</th>\n",
       "      <th>area_name</th>\n",
       "      <th>count</th>\n",
       "      <th>color</th>\n",
       "      <th>size</th>\n",
       "    </tr>\n",
       "  </thead>\n",
       "  <tbody>\n",
       "    <tr>\n",
       "      <th>33808</th>\n",
       "      <td>34.2440</td>\n",
       "      <td>-118.5583</td>\n",
       "      <td>Devonshire</td>\n",
       "      <td>483</td>\n",
       "      <td>Black</td>\n",
       "      <td>12.0</td>\n",
       "    </tr>\n",
       "    <tr>\n",
       "      <th>14385</th>\n",
       "      <td>34.0480</td>\n",
       "      <td>-118.2577</td>\n",
       "      <td>Central</td>\n",
       "      <td>456</td>\n",
       "      <td>Black</td>\n",
       "      <td>12.0</td>\n",
       "    </tr>\n",
       "    <tr>\n",
       "      <th>15849</th>\n",
       "      <td>34.0563</td>\n",
       "      <td>-118.2374</td>\n",
       "      <td>Central</td>\n",
       "      <td>425</td>\n",
       "      <td>Black</td>\n",
       "      <td>12.0</td>\n",
       "    </tr>\n",
       "    <tr>\n",
       "      <th>21246</th>\n",
       "      <td>34.1016</td>\n",
       "      <td>-118.3387</td>\n",
       "      <td>Hollywood</td>\n",
       "      <td>411</td>\n",
       "      <td>Black</td>\n",
       "      <td>12.0</td>\n",
       "    </tr>\n",
       "    <tr>\n",
       "      <th>28418</th>\n",
       "      <td>34.1905</td>\n",
       "      <td>-118.6059</td>\n",
       "      <td>Topanga</td>\n",
       "      <td>384</td>\n",
       "      <td>green</td>\n",
       "      <td>10.0</td>\n",
       "    </tr>\n",
       "    <tr>\n",
       "      <th>...</th>\n",
       "      <td>...</td>\n",
       "      <td>...</td>\n",
       "      <td>...</td>\n",
       "      <td>...</td>\n",
       "      <td>...</td>\n",
       "      <td>...</td>\n",
       "    </tr>\n",
       "    <tr>\n",
       "      <th>8474</th>\n",
       "      <td>34.0070</td>\n",
       "      <td>-118.2872</td>\n",
       "      <td>Southwest</td>\n",
       "      <td>6</td>\n",
       "      <td>grey</td>\n",
       "      <td>0.1</td>\n",
       "    </tr>\n",
       "    <tr>\n",
       "      <th>7486</th>\n",
       "      <td>33.9977</td>\n",
       "      <td>-118.4221</td>\n",
       "      <td>Pacific</td>\n",
       "      <td>6</td>\n",
       "      <td>grey</td>\n",
       "      <td>0.1</td>\n",
       "    </tr>\n",
       "    <tr>\n",
       "      <th>7080</th>\n",
       "      <td>33.9943</td>\n",
       "      <td>-118.4748</td>\n",
       "      <td>Pacific</td>\n",
       "      <td>6</td>\n",
       "      <td>grey</td>\n",
       "      <td>0.1</td>\n",
       "    </tr>\n",
       "    <tr>\n",
       "      <th>7072</th>\n",
       "      <td>33.9942</td>\n",
       "      <td>-118.2809</td>\n",
       "      <td>77th Street</td>\n",
       "      <td>6</td>\n",
       "      <td>grey</td>\n",
       "      <td>0.1</td>\n",
       "    </tr>\n",
       "    <tr>\n",
       "      <th>7874</th>\n",
       "      <td>34.0010</td>\n",
       "      <td>-118.3067</td>\n",
       "      <td>77th Street</td>\n",
       "      <td>6</td>\n",
       "      <td>grey</td>\n",
       "      <td>0.1</td>\n",
       "    </tr>\n",
       "  </tbody>\n",
       "</table>\n",
       "<p>9860 rows × 6 columns</p>\n",
       "</div>"
      ],
      "text/plain": [
       "           lat       lon    area_name  count  color  size\n",
       "33808  34.2440 -118.5583   Devonshire    483  Black  12.0\n",
       "14385  34.0480 -118.2577      Central    456  Black  12.0\n",
       "15849  34.0563 -118.2374      Central    425  Black  12.0\n",
       "21246  34.1016 -118.3387    Hollywood    411  Black  12.0\n",
       "28418  34.1905 -118.6059      Topanga    384  green  10.0\n",
       "...        ...       ...          ...    ...    ...   ...\n",
       "8474   34.0070 -118.2872    Southwest      6   grey   0.1\n",
       "7486   33.9977 -118.4221      Pacific      6   grey   0.1\n",
       "7080   33.9943 -118.4748      Pacific      6   grey   0.1\n",
       "7072   33.9942 -118.2809  77th Street      6   grey   0.1\n",
       "7874   34.0010 -118.3067  77th Street      6   grey   0.1\n",
       "\n",
       "[9860 rows x 6 columns]"
      ]
     },
     "execution_count": 640,
     "metadata": {},
     "output_type": "execute_result"
    }
   ],
   "source": [
    "location_2019"
   ]
  },
  {
   "cell_type": "markdown",
   "metadata": {},
   "source": [
    "### By Heatmap"
   ]
  },
  {
   "cell_type": "code",
   "execution_count": 754,
   "metadata": {
    "execution": {
     "iopub.execute_input": "2020-07-22T18:58:58.383965Z",
     "iopub.status.busy": "2020-07-22T18:58:58.383659Z",
     "iopub.status.idle": "2020-07-22T18:58:58.399672Z",
     "shell.execute_reply": "2020-07-22T18:58:58.398907Z",
     "shell.execute_reply.started": "2020-07-22T18:58:58.383913Z"
    }
   },
   "outputs": [
    {
     "data": {
      "text/html": [
       "<div>\n",
       "<style scoped>\n",
       "    .dataframe tbody tr th:only-of-type {\n",
       "        vertical-align: middle;\n",
       "    }\n",
       "\n",
       "    .dataframe tbody tr th {\n",
       "        vertical-align: top;\n",
       "    }\n",
       "\n",
       "    .dataframe thead th {\n",
       "        text-align: right;\n",
       "    }\n",
       "</style>\n",
       "<table border=\"1\" class=\"dataframe\">\n",
       "  <thead>\n",
       "    <tr style=\"text-align: right;\">\n",
       "      <th></th>\n",
       "      <th>area_name</th>\n",
       "      <th>count</th>\n",
       "    </tr>\n",
       "  </thead>\n",
       "  <tbody>\n",
       "    <tr>\n",
       "      <th>0</th>\n",
       "      <td>77th Street</td>\n",
       "      <td>14111</td>\n",
       "    </tr>\n",
       "    <tr>\n",
       "      <th>1</th>\n",
       "      <td>Central</td>\n",
       "      <td>13514</td>\n",
       "    </tr>\n",
       "    <tr>\n",
       "      <th>15</th>\n",
       "      <td>Southwest</td>\n",
       "      <td>13415</td>\n",
       "    </tr>\n",
       "    <tr>\n",
       "      <th>12</th>\n",
       "      <td>Pacific</td>\n",
       "      <td>12183</td>\n",
       "    </tr>\n",
       "    <tr>\n",
       "      <th>14</th>\n",
       "      <td>Southeast</td>\n",
       "      <td>11666</td>\n",
       "    </tr>\n",
       "    <tr>\n",
       "      <th>6</th>\n",
       "      <td>Hollywood</td>\n",
       "      <td>11079</td>\n",
       "    </tr>\n",
       "    <tr>\n",
       "      <th>8</th>\n",
       "      <td>N Hollywood</td>\n",
       "      <td>11000</td>\n",
       "    </tr>\n",
       "    <tr>\n",
       "      <th>9</th>\n",
       "      <td>Newton</td>\n",
       "      <td>10686</td>\n",
       "    </tr>\n",
       "    <tr>\n",
       "      <th>20</th>\n",
       "      <td>Wilshire</td>\n",
       "      <td>10359</td>\n",
       "    </tr>\n",
       "    <tr>\n",
       "      <th>11</th>\n",
       "      <td>Olympic</td>\n",
       "      <td>10153</td>\n",
       "    </tr>\n",
       "    <tr>\n",
       "      <th>16</th>\n",
       "      <td>Topanga</td>\n",
       "      <td>9572</td>\n",
       "    </tr>\n",
       "    <tr>\n",
       "      <th>10</th>\n",
       "      <td>Northeast</td>\n",
       "      <td>9568</td>\n",
       "    </tr>\n",
       "    <tr>\n",
       "      <th>17</th>\n",
       "      <td>Van Nuys</td>\n",
       "      <td>9478</td>\n",
       "    </tr>\n",
       "    <tr>\n",
       "      <th>13</th>\n",
       "      <td>Rampart</td>\n",
       "      <td>9455</td>\n",
       "    </tr>\n",
       "    <tr>\n",
       "      <th>18</th>\n",
       "      <td>West LA</td>\n",
       "      <td>9154</td>\n",
       "    </tr>\n",
       "    <tr>\n",
       "      <th>7</th>\n",
       "      <td>Mission</td>\n",
       "      <td>9060</td>\n",
       "    </tr>\n",
       "    <tr>\n",
       "      <th>2</th>\n",
       "      <td>Devonshire</td>\n",
       "      <td>8887</td>\n",
       "    </tr>\n",
       "    <tr>\n",
       "      <th>4</th>\n",
       "      <td>Harbor</td>\n",
       "      <td>8641</td>\n",
       "    </tr>\n",
       "    <tr>\n",
       "      <th>19</th>\n",
       "      <td>West Valley</td>\n",
       "      <td>8599</td>\n",
       "    </tr>\n",
       "    <tr>\n",
       "      <th>5</th>\n",
       "      <td>Hollenbeck</td>\n",
       "      <td>8303</td>\n",
       "    </tr>\n",
       "    <tr>\n",
       "      <th>3</th>\n",
       "      <td>Foothill</td>\n",
       "      <td>7529</td>\n",
       "    </tr>\n",
       "  </tbody>\n",
       "</table>\n",
       "</div>"
      ],
      "text/plain": [
       "      area_name  count\n",
       "0   77th Street  14111\n",
       "1       Central  13514\n",
       "15    Southwest  13415\n",
       "12      Pacific  12183\n",
       "14    Southeast  11666\n",
       "6     Hollywood  11079\n",
       "8   N Hollywood  11000\n",
       "9        Newton  10686\n",
       "20     Wilshire  10359\n",
       "11      Olympic  10153\n",
       "16      Topanga   9572\n",
       "10    Northeast   9568\n",
       "17     Van Nuys   9478\n",
       "13      Rampart   9455\n",
       "18      West LA   9154\n",
       "7       Mission   9060\n",
       "2    Devonshire   8887\n",
       "4        Harbor   8641\n",
       "19  West Valley   8599\n",
       "5    Hollenbeck   8303\n",
       "3      Foothill   7529"
      ]
     },
     "execution_count": 754,
     "metadata": {},
     "output_type": "execute_result"
    }
   ],
   "source": [
    "pd_area_count_2019"
   ]
  },
  {
   "cell_type": "code",
   "execution_count": 758,
   "metadata": {
    "execution": {
     "iopub.execute_input": "2020-07-22T19:05:41.866108Z",
     "iopub.status.busy": "2020-07-22T19:05:41.865817Z",
     "iopub.status.idle": "2020-07-22T19:05:41.874205Z",
     "shell.execute_reply": "2020-07-22T19:05:41.872192Z",
     "shell.execute_reply.started": "2020-07-22T19:05:41.866069Z"
    }
   },
   "outputs": [
    {
     "data": {
      "text/plain": [
       "14111"
      ]
     },
     "execution_count": 758,
     "metadata": {},
     "output_type": "execute_result"
    }
   ],
   "source": [
    "max_crime"
   ]
  },
  {
   "cell_type": "code",
   "execution_count": 760,
   "metadata": {
    "execution": {
     "iopub.execute_input": "2020-07-22T19:07:13.582118Z",
     "iopub.status.busy": "2020-07-22T19:07:13.581863Z",
     "iopub.status.idle": "2020-07-22T19:07:13.611498Z",
     "shell.execute_reply": "2020-07-22T19:07:13.610732Z",
     "shell.execute_reply.started": "2020-07-22T19:07:13.582078Z"
    }
   },
   "outputs": [
    {
     "data": {
      "text/html": [
       "<div>\n",
       "<style scoped>\n",
       "    .dataframe tbody tr th:only-of-type {\n",
       "        vertical-align: middle;\n",
       "    }\n",
       "\n",
       "    .dataframe tbody tr th {\n",
       "        vertical-align: top;\n",
       "    }\n",
       "\n",
       "    .dataframe thead th {\n",
       "        text-align: right;\n",
       "    }\n",
       "</style>\n",
       "<table border=\"1\" class=\"dataframe\">\n",
       "  <thead>\n",
       "    <tr style=\"text-align: right;\">\n",
       "      <th></th>\n",
       "      <th>lat</th>\n",
       "      <th>lon</th>\n",
       "    </tr>\n",
       "  </thead>\n",
       "  <tbody>\n",
       "    <tr>\n",
       "      <th>0</th>\n",
       "      <td>34.0981</td>\n",
       "      <td>-118.3577</td>\n",
       "    </tr>\n",
       "    <tr>\n",
       "      <th>1</th>\n",
       "      <td>34.2143</td>\n",
       "      <td>-118.5666</td>\n",
       "    </tr>\n",
       "    <tr>\n",
       "      <th>2</th>\n",
       "      <td>34.0731</td>\n",
       "      <td>-118.3091</td>\n",
       "    </tr>\n",
       "    <tr>\n",
       "      <th>3</th>\n",
       "      <td>33.9815</td>\n",
       "      <td>-118.2916</td>\n",
       "    </tr>\n",
       "    <tr>\n",
       "      <th>4</th>\n",
       "      <td>34.1948</td>\n",
       "      <td>-118.5450</td>\n",
       "    </tr>\n",
       "    <tr>\n",
       "      <th>...</th>\n",
       "      <td>...</td>\n",
       "      <td>...</td>\n",
       "    </tr>\n",
       "    <tr>\n",
       "      <th>216407</th>\n",
       "      <td>34.0219</td>\n",
       "      <td>-118.2571</td>\n",
       "    </tr>\n",
       "    <tr>\n",
       "      <th>216408</th>\n",
       "      <td>34.1459</td>\n",
       "      <td>-118.3631</td>\n",
       "    </tr>\n",
       "    <tr>\n",
       "      <th>216409</th>\n",
       "      <td>34.1745</td>\n",
       "      <td>-118.5384</td>\n",
       "    </tr>\n",
       "    <tr>\n",
       "      <th>216410</th>\n",
       "      <td>34.0593</td>\n",
       "      <td>-118.2368</td>\n",
       "    </tr>\n",
       "    <tr>\n",
       "      <th>216411</th>\n",
       "      <td>34.1448</td>\n",
       "      <td>-118.4117</td>\n",
       "    </tr>\n",
       "  </tbody>\n",
       "</table>\n",
       "<p>216412 rows × 2 columns</p>\n",
       "</div>"
      ],
      "text/plain": [
       "            lat       lon\n",
       "0       34.0981 -118.3577\n",
       "1       34.2143 -118.5666\n",
       "2       34.0731 -118.3091\n",
       "3       33.9815 -118.2916\n",
       "4       34.1948 -118.5450\n",
       "...         ...       ...\n",
       "216407  34.0219 -118.2571\n",
       "216408  34.1459 -118.3631\n",
       "216409  34.1745 -118.5384\n",
       "216410  34.0593 -118.2368\n",
       "216411  34.1448 -118.4117\n",
       "\n",
       "[216412 rows x 2 columns]"
      ]
     },
     "execution_count": 760,
     "metadata": {},
     "output_type": "execute_result"
    }
   ],
   "source": [
    "gps_coord_2019 = df_2019[['lat', 'lon']]\n",
    "gps_coord_2019"
   ]
  }
 ],
 "metadata": {
  "kernelspec": {
   "display_name": "Python 3.7.6 64-bit",
   "language": "python",
   "name": "python37664bit90268a9c49c04dbbb42644938ff45948"
  },
  "language_info": {
   "codemirror_mode": {
    "name": "ipython",
    "version": 3
   },
   "file_extension": ".py",
   "mimetype": "text/x-python",
   "name": "python",
   "nbconvert_exporter": "python",
   "pygments_lexer": "ipython3",
   "version": "3.7.6"
  }
 },
 "nbformat": 4,
 "nbformat_minor": 4
}
