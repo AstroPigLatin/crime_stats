{
 "cells": [
  {
   "cell_type": "code",
   "execution_count": 4,
   "metadata": {
    "execution": {
     "iopub.execute_input": "2020-07-23T22:24:52.516136Z",
     "iopub.status.busy": "2020-07-23T22:24:52.515854Z",
     "iopub.status.idle": "2020-07-23T22:24:54.016729Z",
     "shell.execute_reply": "2020-07-23T22:24:54.016013Z",
     "shell.execute_reply.started": "2020-07-23T22:24:52.516087Z"
    }
   },
   "outputs": [],
   "source": [
    "import matplotlib.pyplot as plt\n",
    "import numpy as np\n",
    "import random\n",
    "import scipy.stats as scs\n",
    "import pandas as pd"
   ]
  },
  {
   "cell_type": "code",
   "execution_count": 15,
   "metadata": {
    "execution": {
     "iopub.execute_input": "2020-07-23T22:27:41.679041Z",
     "iopub.status.busy": "2020-07-23T22:27:41.678788Z",
     "iopub.status.idle": "2020-07-23T22:27:41.683023Z",
     "shell.execute_reply": "2020-07-23T22:27:41.682208Z",
     "shell.execute_reply.started": "2020-07-23T22:27:41.679000Z"
    }
   },
   "outputs": [],
   "source": [
    "time_2018 = df_2018['time_occ']\n",
    "time_2019 = df_2019['time_occ']"
   ]
  },
  {
   "cell_type": "code",
   "execution_count": 16,
   "metadata": {
    "execution": {
     "iopub.execute_input": "2020-07-23T22:27:43.917875Z",
     "iopub.status.busy": "2020-07-23T22:27:43.917571Z",
     "iopub.status.idle": "2020-07-23T22:27:43.924058Z",
     "shell.execute_reply": "2020-07-23T22:27:43.923243Z",
     "shell.execute_reply.started": "2020-07-23T22:27:43.917830Z"
    }
   },
   "outputs": [
    {
     "data": {
      "text/plain": [
       "0         2200\n",
       "1          800\n",
       "2          155\n",
       "3          700\n",
       "4          830\n",
       "          ... \n",
       "228358     600\n",
       "228359    1900\n",
       "228360     100\n",
       "228361    1419\n",
       "228362    1500\n",
       "Name: time_occ, Length: 228363, dtype: int64"
      ]
     },
     "execution_count": 16,
     "metadata": {},
     "output_type": "execute_result"
    }
   ],
   "source": [
    "time_2018"
   ]
  },
  {
   "cell_type": "code",
   "execution_count": 18,
   "metadata": {
    "execution": {
     "iopub.execute_input": "2020-07-23T22:27:58.323193Z",
     "iopub.status.busy": "2020-07-23T22:27:58.322864Z",
     "iopub.status.idle": "2020-07-23T22:27:58.328113Z",
     "shell.execute_reply": "2020-07-23T22:27:58.327176Z",
     "shell.execute_reply.started": "2020-07-23T22:27:58.323132Z"
    }
   },
   "outputs": [
    {
     "data": {
      "text/plain": [
       "228363"
      ]
     },
     "execution_count": 18,
     "metadata": {},
     "output_type": "execute_result"
    }
   ],
   "source": [
    "len(time_2018)"
   ]
  },
  {
   "cell_type": "code",
   "execution_count": 9,
   "metadata": {
    "execution": {
     "iopub.execute_input": "2020-07-23T22:25:52.923138Z",
     "iopub.status.busy": "2020-07-23T22:25:52.922856Z",
     "iopub.status.idle": "2020-07-23T22:25:54.782687Z",
     "shell.execute_reply": "2020-07-23T22:25:54.781922Z",
     "shell.execute_reply.started": "2020-07-23T22:25:52.923090Z"
    }
   },
   "outputs": [],
   "source": [
    "# 2018\n",
    "df_2018 = pd.read_csv('data/2018_crime_la.csv')\n",
    "df_2019 = pd.read_csv('data/2019_crime_la.csv')"
   ]
  },
  {
   "cell_type": "code",
   "execution_count": 25,
   "metadata": {
    "execution": {
     "iopub.execute_input": "2020-07-23T22:29:10.646345Z",
     "iopub.status.busy": "2020-07-23T22:29:10.645983Z",
     "iopub.status.idle": "2020-07-23T22:29:10.651077Z",
     "shell.execute_reply": "2020-07-23T22:29:10.650103Z",
     "shell.execute_reply.started": "2020-07-23T22:29:10.646285Z"
    }
   },
   "outputs": [],
   "source": [
    "mean_2018 = np.mean(time_2018)"
   ]
  },
  {
   "cell_type": "code",
   "execution_count": 26,
   "metadata": {
    "execution": {
     "iopub.execute_input": "2020-07-23T22:29:15.764495Z",
     "iopub.status.busy": "2020-07-23T22:29:15.764149Z",
     "iopub.status.idle": "2020-07-23T22:29:15.769899Z",
     "shell.execute_reply": "2020-07-23T22:29:15.768956Z",
     "shell.execute_reply.started": "2020-07-23T22:29:15.764437Z"
    }
   },
   "outputs": [
    {
     "data": {
      "text/plain": [
       "1355.503645511751"
      ]
     },
     "execution_count": 26,
     "metadata": {},
     "output_type": "execute_result"
    }
   ],
   "source": [
    "mean_2018"
   ]
  },
  {
   "cell_type": "code",
   "execution_count": 22,
   "metadata": {
    "execution": {
     "iopub.execute_input": "2020-07-23T22:28:50.601534Z",
     "iopub.status.busy": "2020-07-23T22:28:50.601243Z",
     "iopub.status.idle": "2020-07-23T22:28:50.607386Z",
     "shell.execute_reply": "2020-07-23T22:28:50.606310Z",
     "shell.execute_reply.started": "2020-07-23T22:28:50.601483Z"
    }
   },
   "outputs": [],
   "source": [
    "sse_2018 = np.std(time_2018) / np.sqrt(len(time_2018))\n"
   ]
  },
  {
   "cell_type": "code",
   "execution_count": 24,
   "metadata": {
    "execution": {
     "iopub.execute_input": "2020-07-23T22:28:56.135546Z",
     "iopub.status.busy": "2020-07-23T22:28:56.135187Z",
     "iopub.status.idle": "2020-07-23T22:28:56.140839Z",
     "shell.execute_reply": "2020-07-23T22:28:56.139903Z",
     "shell.execute_reply.started": "2020-07-23T22:28:56.135478Z"
    }
   },
   "outputs": [
    {
     "data": {
      "text/plain": [
       "1.3531849993456444"
      ]
     },
     "execution_count": 24,
     "metadata": {},
     "output_type": "execute_result"
    }
   ],
   "source": [
    "sse_2018"
   ]
  },
  {
   "cell_type": "code",
   "execution_count": 34,
   "metadata": {
    "execution": {
     "iopub.execute_input": "2020-07-23T22:37:00.261608Z",
     "iopub.status.busy": "2020-07-23T22:37:00.261329Z",
     "iopub.status.idle": "2020-07-23T22:37:00.265592Z",
     "shell.execute_reply": "2020-07-23T22:37:00.264805Z",
     "shell.execute_reply.started": "2020-07-23T22:37:00.261567Z"
    }
   },
   "outputs": [],
   "source": [
    "mean_2019 = np.mean(time_2019)"
   ]
  },
  {
   "cell_type": "code",
   "execution_count": 35,
   "metadata": {
    "execution": {
     "iopub.execute_input": "2020-07-23T22:37:05.493290Z",
     "iopub.status.busy": "2020-07-23T22:37:05.492941Z",
     "iopub.status.idle": "2020-07-23T22:37:05.498721Z",
     "shell.execute_reply": "2020-07-23T22:37:05.497682Z",
     "shell.execute_reply.started": "2020-07-23T22:37:05.493225Z"
    }
   },
   "outputs": [
    {
     "data": {
      "text/plain": [
       "1354.1566918655158"
      ]
     },
     "execution_count": 35,
     "metadata": {},
     "output_type": "execute_result"
    }
   ],
   "source": [
    "mean_2019"
   ]
  },
  {
   "cell_type": "code",
   "execution_count": 29,
   "metadata": {
    "execution": {
     "iopub.execute_input": "2020-07-23T22:30:17.735120Z",
     "iopub.status.busy": "2020-07-23T22:30:17.734868Z",
     "iopub.status.idle": "2020-07-23T22:30:17.739704Z",
     "shell.execute_reply": "2020-07-23T22:30:17.738971Z",
     "shell.execute_reply.started": "2020-07-23T22:30:17.735080Z"
    }
   },
   "outputs": [],
   "source": [
    "h0_dist = scs.norm(loc=1355.504, scale=sse_2018)"
   ]
  },
  {
   "cell_type": "code",
   "execution_count": 57,
   "metadata": {
    "execution": {
     "iopub.execute_input": "2020-07-23T23:07:32.744599Z",
     "iopub.status.busy": "2020-07-23T23:07:32.743333Z",
     "iopub.status.idle": "2020-07-23T23:07:33.182244Z",
     "shell.execute_reply": "2020-07-23T23:07:33.181380Z",
     "shell.execute_reply.started": "2020-07-23T23:07:32.744502Z"
    }
   },
   "outputs": [
    {
     "data": {
      "image/png": "[encoded data removed]",
      "text/plain": [
       "<Figure size 432x288 with 1 Axes>"
      ]
     },
     "metadata": {
      "needs_background": "light"
     },
     "output_type": "display_data"
    }
   ],
   "source": [
    "fig, ax = plt.subplots(1)\n",
    "\n",
    "# x_range = np.linspace(h0_dist.ppf(.0001), h0_dist.ppf(1-.0001), num=250)\n",
    "x_range = np.linspace(mean_2018 - 4*sse_2018, mean_2018 + 4*sse_2018, num=250)\n",
    "h0 = h0_dist.pdf(x_range)\n",
    "\n",
    "ax.plot(x_range, h0, label =\"H0: 2018 Mean\")\n",
    "\n",
    "critical_value_right = h0_dist.ppf(1-0.025)\n",
    "critical_value_left = h0_dist.ppf(0.025)\n",
    "\n",
    "x_left = x_range[x_range < critical_value_left]\n",
    "x_right = x_range[x_range >= critical_value_right]\n",
    "\n",
    "ax.fill_between(x_left, 0, h0_dist.pdf(x_left), color='r', alpha=0.2, label=r'$\\alpha$ = rejection region')\n",
    "ax.fill_between(x_right, 0, h0_dist.pdf(x_right), color='r', alpha=0.2)\n",
    "\n",
    "plt.axvline(x=mean_2019, color='black', label=\"2019 Mean\")\n",
    "plt.axvline(x=mean_2018, color='green',  linestyle=\"dashed\", label = \"mu\")\n",
    "plt.axvline(x=critical_value_left, color='purple', linestyle=\"dashed\", label=\"Critical Value\")\n",
    "plt.axvline(x=critical_value_right, color='purple', linestyle=\"dashed\")\n",
    "ax.legend()\n",
    "plt.savefig('images/null_hypoth.png')\n",
    "\n",
    "plt.show()\n",
    "\n",
    "\n"
   ]
  },
  {
   "cell_type": "code",
   "execution_count": 50,
   "metadata": {
    "execution": {
     "iopub.execute_input": "2020-07-23T22:54:35.327881Z",
     "iopub.status.busy": "2020-07-23T22:54:35.327575Z",
     "iopub.status.idle": "2020-07-23T22:54:35.332819Z",
     "shell.execute_reply": "2020-07-23T22:54:35.332117Z",
     "shell.execute_reply.started": "2020-07-23T22:54:35.327828Z"
    }
   },
   "outputs": [],
   "source": [
    "alpha = 0.05\n",
    "critical_values = [h0_dist.ppf(alpha/2), h0_dist.ppf(1-(alpha/2))]"
   ]
  },
  {
   "cell_type": "code",
   "execution_count": 51,
   "metadata": {
    "execution": {
     "iopub.execute_input": "2020-07-23T22:54:38.360667Z",
     "iopub.status.busy": "2020-07-23T22:54:38.360329Z",
     "iopub.status.idle": "2020-07-23T22:54:38.366166Z",
     "shell.execute_reply": "2020-07-23T22:54:38.365145Z",
     "shell.execute_reply.started": "2020-07-23T22:54:38.360611Z"
    }
   },
   "outputs": [
    {
     "data": {
      "text/plain": [
       "[1352.8518061368625, 1358.1561938631373]"
      ]
     },
     "execution_count": 51,
     "metadata": {},
     "output_type": "execute_result"
    }
   ],
   "source": [
    "critical_values"
   ]
  },
  {
   "cell_type": "code",
   "execution_count": null,
   "metadata": {},
   "outputs": [],
   "source": [
    "t = (xbar - mu) / ( sample sd / sqrt(n) )"
   ]
  },
  {
   "cell_type": "code",
   "execution_count": 54,
   "metadata": {
    "execution": {
     "iopub.execute_input": "2020-07-23T22:59:05.067710Z",
     "iopub.status.busy": "2020-07-23T22:59:05.067425Z",
     "iopub.status.idle": "2020-07-23T22:59:05.200360Z",
     "shell.execute_reply": "2020-07-23T22:59:05.199461Z",
     "shell.execute_reply.started": "2020-07-23T22:59:05.067661Z"
    }
   },
   "outputs": [
    {
     "name": "stdout",
     "output_type": "stream",
     "text": [
      "README.md  \u001b[1m\u001b[36mdata\u001b[m\u001b[m/      \u001b[1m\u001b[36mimages\u001b[m\u001b[m/    \u001b[1m\u001b[36mnotebook\u001b[m\u001b[m/  \u001b[1m\u001b[36msrc\u001b[m\u001b[m/\n"
     ]
    }
   ],
   "source": [
    "ls"
   ]
  },
  {
   "cell_type": "code",
   "execution_count": 55,
   "metadata": {
    "execution": {
     "iopub.execute_input": "2020-07-23T22:59:07.484914Z",
     "iopub.status.busy": "2020-07-23T22:59:07.484589Z",
     "iopub.status.idle": "2020-07-23T22:59:07.617271Z",
     "shell.execute_reply": "2020-07-23T22:59:07.615936Z",
     "shell.execute_reply.started": "2020-07-23T22:59:07.484851Z"
    }
   },
   "outputs": [
    {
     "name": "stdout",
     "output_type": "stream",
     "text": [
      "2018_crime_type.png    data_size.png          unique_count.png\n",
      "2019_crime_type.png    dataset_preview.png    zoom1.png\n",
      "area_2018_barplot.png  gender.png             zoom2.png\n",
      "area_2019_barplot.png  lunch.jpeg             zoom3.png\n",
      "choro_map.png          nullhypoth.png         zoom4.png\n",
      "choro_map_pd.png       simpsons.gif           zoom5.png\n",
      "crime_codes.png        table_preview.png\n",
      "crime_intro.png        time_distr.png\n"
     ]
    }
   ],
   "source": [
    "ls images"
   ]
  },
  {
   "cell_type": "code",
   "execution_count": null,
   "metadata": {},
   "outputs": [],
   "source": []
  }
 ],
 "metadata": {
  "kernelspec": {
   "display_name": "Python 3.7.6 64-bit",
   "language": "python",
   "name": "python37664bit90268a9c49c04dbbb42644938ff45948"
  },
  "language_info": {
   "codemirror_mode": {
    "name": "ipython",
    "version": 3
   },
   "file_extension": ".py",
   "mimetype": "text/x-python",
   "name": "python",
   "nbconvert_exporter": "python",
   "pygments_lexer": "ipython3",
   "version": "3.7.6"
  }
 },
 "nbformat": 4,
 "nbformat_minor": 4
}
